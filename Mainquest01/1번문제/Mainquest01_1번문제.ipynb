{
 "cells": [
  {
   "cell_type": "code",
   "execution_count": 220,
   "id": "874f53fb",
   "metadata": {},
   "outputs": [],
   "source": [
    "#randint 사용을 위해 random 라이브러리를 import\n",
    "import random\n",
    "#Account 클래스 생성\n",
    "class Account:\n",
    "    #은행 이름 설정 및 계좌 개수 설정을 위한 변수 0으로 초기화\n",
    "    bank = 'SC은행'\n",
    "    # Q2 계좌 객체의 개수를 저장\n",
    "    account_count = 0\n",
    "    #생성자에 예금주와 계좌잔액을 입력함, 계좌번호를 자동으로 부여\n",
    "    def __init__(self, name, balance):\n",
    "        # 생성자에 입력한 예금주와 잔액을 인스턴스 변수로 지정\n",
    "        self.name = name\n",
    "        self.balance = balance\n",
    "        #계좌번호 랜덤 생성을 위해 3-2-6 자리 숫자를 랜덤으로 배정\n",
    "        random3 = random.randint(0,999)\n",
    "        random2 = random.randint(0,99)\n",
    "        random6 = random.randint(0,999999)\n",
    "        #zfill 함수를 통해빈 공백을 0으로 채움\n",
    "        accountnum3 = str(random3).zfill(3)\n",
    "        accountnum2 = str(random2).zfill(2)\n",
    "        accountnum6 = str(random6).zfill(6)\n",
    "        #생성된 3-2-6 번호를 '-' 표시로 묶어서 최종 계좌번호 생성\n",
    "        self.accountnum = accountnum3 + '-' + accountnum2 + '-' + accountnum6\n",
    "        # 입금 기록 및 출금 기록 저장을 위한 인스턴스 리스트 할당\n",
    "        self.deposit_history = []\n",
    "        self.withdraw_history = []\n",
    "        # 한번 실행 되면 account_count를 1 늘려 계좌의 개수를 센다\n",
    "        Account.account_count += 1\n",
    "    \n",
    "    #계좌의 개수를 돌려주는 매서드\n",
    "    def get_account_count():\n",
    "        #클래스를 받아 class 내의 account_count를 출력해줌\n",
    "         print(f'{Account.account_count}개의 계좌가 있습니다.')\n",
    "            \n",
    "    #입금 매서드\n",
    "    def deposit(self, amount):\n",
    "        #만약 입력한 amount 값이 정수가 아닌 경우 올바른 금액을 입력해달라고 한다.\n",
    "        if type(amount) != int:\n",
    "            print('올바른 금액을 입력해주세요')\n",
    "        #정수형인 경우    \n",
    "        else:\n",
    "            #만약 amount 금액이 1보다 작은 경우 입금 최소 금액을 알려준다.\n",
    "            if amount < 1:\n",
    "                print('입금은 최소 1원 이상만 가능합니다.')\n",
    "            #그 외의 경우 입금 과정 진행 \n",
    "            else:\n",
    "                #입력한 액수를 잔액에 더해준다.\n",
    "                self.balance += amount\n",
    "                # 기록을 위해 생성한 입금기록 리스트에 금액 저장\n",
    "                self.deposit_history.append(amount)\n",
    "                #입금 금액과 입금 후 잔액을 1000의 단위마다 ,로 구분\n",
    "                f_amount= format(amount,',')\n",
    "                f_balance = format(self.balance,',')\n",
    "                #입금 금액 및 잔고 출력\n",
    "                print(f'{f_amount}원이 입금되었습니다. 잔고 : {f_balance}원')\n",
    "                #입금을 마친 후 만약 입금이 5회가 되었으면 이자 지급\n",
    "                #입금을 마친 입금 기록의 길이를 확인\n",
    "                checkinterest = len(self.deposit_history)\n",
    "                #만약 입금 기록의 길이가 5의 배수이면 이자 지금\n",
    "                if checkinterest % 5 == 0:\n",
    "                    #이자를 지금하기 위해 1%의 이자를 1의 자리 까지만 표기하고 반올림\n",
    "                    interest = round(0.01*self.balance)\n",
    "                    #지급된 이자를 잔고에 더해준다.\n",
    "                    self.balance += interest\n",
    "\n",
    "    def withdraw(self, amount):\n",
    "        #만약 입력한 금액이 정수형이 아닌 경우 올바른 금액 입력해달라고 한다.\n",
    "        if type(amount) != int:\n",
    "            print('올바른 출금 금액을 입력해주세요')            \n",
    "        #정수형인경우    \n",
    "        else:\n",
    "            # 만약 출금금액이 0원보다 적으면 올바른 금액 입력해달라고 요청\n",
    "            if amount < 0:\n",
    "                print('올바른 출금 금액을 입력해주세요.')\n",
    "            #만약 출금금액이 잔고보다 많은 경우 출금 가능한 잔액이 부족하다 출력\n",
    "            elif amount > self.balance:\n",
    "                print('출금 가능한 잔액이 부족합니다.')\n",
    "            #다 충족시키는 경우 출금 과정 진행\n",
    "            else:\n",
    "                #잔고에 출금금액을 빼준다\n",
    "                self.balance -= amount\n",
    "                #출금기록에 금액을 더해준다\n",
    "                self.withdraw_history.append(amount)\n",
    "                #출금 금액과 출금 후 잔액을 1000의 단위마다 ,로 구분\n",
    "                f_amount= format(amount,',')\n",
    "                f_balance = format(self.balance,',')\n",
    "                #출금 금액 및 잔고 출력\n",
    "                print(f'{f_amount}원이 출금되었습니다. 잔고 : {f_balance}원')\n",
    "\n",
    "    #은행 계좌에 대한 정보 출력\n",
    "    def display_info(self):\n",
    "        #잔고를 1000의 단위마다 ','로 구분\n",
    "        f_balance = format(self.balance,',')\n",
    "        #은행명, 예금주, 계좌번호, 잔고를 출력\n",
    "        print(f\"은행이름: {Account.bank}, 예금주: {self.name}, 계좌번호: {self.accountnum}, 잔고: {f_balance}원\")\n",
    "    \n",
    "    #입금 내역 출력\n",
    "    def deposit_record(self):\n",
    "        #입금내역 문구를 출력\n",
    "        print('입금내역 :')\n",
    "        #입금기록 안에 있는 내용들을 1000의 단위를 ',' 로 구분하고 출력\n",
    "        for deposit in self.deposit_history:\n",
    "            print(format(deposit,',')+'원')\n",
    "    \n",
    "    #출금 내역 출력\n",
    "    def withdraw_record(self):\n",
    "        #출금내역 문구를 출력\n",
    "        print('출금내역 :')\n",
    "        #출금기록 안에 있는 내용들을 1000의 단위를 ',' 로 구분하고 출력\n",
    "        for withdrawal in self.withdraw_history:\n",
    "            print(format(withdrawal,',')+'원')\n",
    "    \n",
    "\n",
    "        \n",
    "    \n",
    "    \n",
    "      "
   ]
  },
  {
   "cell_type": "code",
   "execution_count": 221,
   "id": "070f13dd",
   "metadata": {},
   "outputs": [],
   "source": [
    "accounts = []"
   ]
  },
  {
   "cell_type": "code",
   "execution_count": 222,
   "id": "9656cfa5",
   "metadata": {},
   "outputs": [],
   "source": [
    "a = Account('전재영', 200000)\n",
    "accounts.append(a)"
   ]
  },
  {
   "cell_type": "code",
   "execution_count": 223,
   "id": "13a43d3a",
   "metadata": {},
   "outputs": [],
   "source": [
    "b = Account('김경민', 3000000000)\n",
    "accounts.append(b)"
   ]
  },
  {
   "cell_type": "code",
   "execution_count": 224,
   "id": "7575d702",
   "metadata": {},
   "outputs": [],
   "source": [
    "c = Account('이영빈', 2000000)\n",
    "accounts.append(c)"
   ]
  },
  {
   "cell_type": "code",
   "execution_count": 225,
   "id": "cbd54d9b",
   "metadata": {},
   "outputs": [
    {
     "name": "stdout",
     "output_type": "stream",
     "text": [
      "은행이름: SC은행, 예금주: 김경민, 계좌번호: 262-61-070199, 잔고: 3,000,000,000원\n",
      "은행이름: SC은행, 예금주: 이영빈, 계좌번호: 561-31-114817, 잔고: 2,000,000원\n"
     ]
    }
   ],
   "source": [
    "for account in accounts:\n",
    "    if account.balance >= 1000000:\n",
    "        account.display_info()\n",
    "        "
   ]
  },
  {
   "cell_type": "code",
   "execution_count": 226,
   "id": "91414dcb",
   "metadata": {},
   "outputs": [
    {
     "name": "stdout",
     "output_type": "stream",
     "text": [
      "올바른 금액을 입력해주세요\n",
      "입금은 최소 1원 이상만 가능합니다.\n",
      "올바른 금액을 입력해주세요\n",
      "300,000원이 입금되었습니다. 잔고 : 500,000원\n",
      "300,000원이 입금되었습니다. 잔고 : 800,000원\n",
      "300,000원이 입금되었습니다. 잔고 : 1,100,000원\n",
      "300,000원이 입금되었습니다. 잔고 : 1,400,000원\n",
      "300,000원이 입금되었습니다. 잔고 : 1,700,000원\n",
      "은행이름: SC은행, 예금주: 전재영, 계좌번호: 819-74-100031, 잔고: 1,717,000원\n"
     ]
    }
   ],
   "source": [
    "a.deposit(1.0)\n",
    "a.deposit(-1)\n",
    "a.deposit('백만원')\n",
    "a.deposit(300000)\n",
    "a.deposit(300000)\n",
    "a.deposit(300000)\n",
    "a.deposit(300000)\n",
    "a.deposit(300000)\n",
    "a.display_info()"
   ]
  },
  {
   "cell_type": "code",
   "execution_count": 227,
   "id": "27b080b9",
   "metadata": {},
   "outputs": [
    {
     "name": "stdout",
     "output_type": "stream",
     "text": [
      "200,000원이 출금되었습니다. 잔고 : 1,517,000원\n",
      "400,000원이 출금되었습니다. 잔고 : 1,117,000원\n",
      "400,000원이 출금되었습니다. 잔고 : 717,000원\n",
      "올바른 출금 금액을 입력해주세요.\n",
      "올바른 출금 금액을 입력해주세요\n",
      "올바른 출금 금액을 입력해주세요\n",
      "출금 가능한 잔액이 부족합니다.\n"
     ]
    }
   ],
   "source": [
    "a.withdraw(200000)\n",
    "a.withdraw(400000)\n",
    "a.withdraw(400000)\n",
    "a.withdraw(-1)\n",
    "a.withdraw('전액')\n",
    "a.withdraw(3.0)\n",
    "a.withdraw(1000000)"
   ]
  },
  {
   "cell_type": "code",
   "execution_count": 228,
   "id": "20637d75",
   "metadata": {
    "scrolled": true
   },
   "outputs": [
    {
     "name": "stdout",
     "output_type": "stream",
     "text": [
      "입금내역 :\n",
      "300,000원\n",
      "300,000원\n",
      "300,000원\n",
      "300,000원\n",
      "300,000원\n",
      "출금내역 :\n",
      "200,000원\n",
      "400,000원\n",
      "400,000원\n"
     ]
    }
   ],
   "source": [
    "a.deposit_record()\n",
    "a.withdraw_record()"
   ]
  },
  {
   "cell_type": "code",
   "execution_count": 229,
   "id": "b9d959a6",
   "metadata": {},
   "outputs": [
    {
     "name": "stdout",
     "output_type": "stream",
     "text": [
      "은행이름: SC은행, 예금주: 전재영, 계좌번호: 819-74-100031, 잔고: 717,000원\n",
      "300,000원이 입금되었습니다. 잔고 : 1,017,000원\n",
      "300,000원이 입금되었습니다. 잔고 : 1,317,000원\n",
      "300,000원이 입금되었습니다. 잔고 : 1,617,000원\n",
      "300,000원이 입금되었습니다. 잔고 : 1,917,000원\n",
      "300,000원이 입금되었습니다. 잔고 : 2,217,000원\n",
      "은행이름: SC은행, 예금주: 전재영, 계좌번호: 819-74-100031, 잔고: 2,239,170원\n"
     ]
    }
   ],
   "source": [
    "a.display_info()\n",
    "a.deposit(300000)\n",
    "a.deposit(300000)\n",
    "a.deposit(300000)\n",
    "a.deposit(300000)\n",
    "a.deposit(300000)\n",
    "a.display_info()"
   ]
  },
  {
   "cell_type": "code",
   "execution_count": 230,
   "id": "2796a50d",
   "metadata": {},
   "outputs": [
    {
     "name": "stdout",
     "output_type": "stream",
     "text": [
      "3개의 계좌가 있습니다.\n"
     ]
    }
   ],
   "source": [
    "Account.get_account_count()"
   ]
  },
  {
   "cell_type": "code",
   "execution_count": 231,
   "id": "7bff3835",
   "metadata": {},
   "outputs": [
    {
     "name": "stdout",
     "output_type": "stream",
     "text": [
      "은행이름: SC은행, 예금주: 전재영, 계좌번호: 819-74-100031, 잔고: 2,239,170원\n",
      "은행이름: SC은행, 예금주: 김경민, 계좌번호: 262-61-070199, 잔고: 3,000,000,000원\n",
      "은행이름: SC은행, 예금주: 이영빈, 계좌번호: 561-31-114817, 잔고: 2,000,000원\n"
     ]
    }
   ],
   "source": [
    "for account in accounts:\n",
    "    if account.balance >= 1000000:\n",
    "        account.display_info()"
   ]
  },
  {
   "cell_type": "code",
   "execution_count": null,
   "id": "570b8640",
   "metadata": {},
   "outputs": [],
   "source": []
  }
 ],
 "metadata": {
  "kernelspec": {
   "display_name": "Python 3 (ipykernel)",
   "language": "python",
   "name": "python3"
  },
  "language_info": {
   "codemirror_mode": {
    "name": "ipython",
    "version": 3
   },
   "file_extension": ".py",
   "mimetype": "text/x-python",
   "name": "python",
   "nbconvert_exporter": "python",
   "pygments_lexer": "ipython3",
   "version": "3.9.7"
  }
 },
 "nbformat": 4,
 "nbformat_minor": 5
}
