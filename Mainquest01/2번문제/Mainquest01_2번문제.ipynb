{
 "cells": [
  {
   "cell_type": "code",
   "execution_count": 48,
   "id": "c744ad84",
   "metadata": {},
   "outputs": [],
   "source": [
    "import random\n",
    "\n",
    "class Aiffel:\n",
    "    coreid = {'김건': 0, '김경민': 0, '김소연': 0, '김영신': 0, \n",
    "              '박근수': 0, '박영수': 0, '박영준': 0, '서원영': 0,\n",
    "              '신지만': 0, '심지안': 0, '이규상': 0, '이윤상': 0, \n",
    "              '이진영': 0, '임현석': 0, '전요한': 0, '전재영': 0, \n",
    "              '조대희': 0}\n",
    "    corepoint = {'김건': 0, '김경민': 0, '김소연': 0, '김영신': 0, \n",
    "              '박근수': 0, '박영수': 0, '박영준': 0, '서원영': 0,\n",
    "              '신지만': 0, '심지안': 0, '이규상': 0, '이윤상': 0, \n",
    "              '이진영': 0, '임현석': 0, '전요한': 0, '전재영': 0, \n",
    "              '조대희': 0}\n",
    "    coreplus = {'김건': 0, '김경민': 0, '김소연': 0, '김영신': 0, \n",
    "              '박근수': 0, '박영수': 0, '박영준': 0, '서원영': 0,\n",
    "              '신지만': 0, '심지안': 0, '이규상': 0, '이윤상': 0, \n",
    "              '이진영': 0, '임현석': 0, '전요한': 0, '전재영': 0, \n",
    "              '조대희': 0}\n",
    "    coreminus = {'김건': 0, '김경민': 0, '김소연': 0, '김영신': 0, \n",
    "              '박근수': 0, '박영수': 0, '박영준': 0, '서원영': 0,\n",
    "              '신지만': 0, '심지안': 0, '이규상': 0, '이윤상': 0, \n",
    "              '이진영': 0, '임현석': 0, '전요한': 0, '전재영': 0, \n",
    "              '조대희': 0}\n",
    "    def __init__(self, name, year, cnum, course):\n",
    "        self.core = sorted(Aiffel.coreid)\n",
    "        self.idb = 0\n",
    "        for i in range(len(self.core)):\n",
    "            if self.core[i] == name:\n",
    "                self.idb = i + 1\n",
    "        self.name = name\n",
    "        self.year = year\n",
    "        self.cnum = cnum\n",
    "        self.course = course\n",
    "        Aiffel.coreid[name] = str(year)[2:] + str(cnum) + str(course) + str(self.idb) \n",
    "    \n",
    "    def get_id_count():\n",
    "        print(f'{len([idnum for idnum in Aiffel.coreid.values() if idnum != 0])}명의 학번이 부여되었습니다.')\n",
    "    \n",
    "    def score(self, points):\n",
    "        if points < 1 or points > 3:\n",
    "            print('퀘스트 점수는 +1점부터 +3점 까지만 가능합니다.')\n",
    "        else:\n",
    "            Aiffel.corepoint[self.name] += points\n",
    "            Aiffel.coreplus[self.name] += points\n",
    "            print(f'{self.name}님의 퀘스트 점수가 {points}점 추가되었습니다. 현재 점수 :{Aiffel.corepoint[self.name]}점')\n",
    "    \n",
    "    def penalty(self, points):\n",
    "        if points < 0:\n",
    "            print('감점할 점수를 입력해주세요 예시 2 -> 2점감점')\n",
    "        else:\n",
    "            Aiffel.corepoint[self.name] -= points\n",
    "            Aiffel.coreminus[self.name] -= points\n",
    "            print(f'{self.name}님의 퀘스트 점수가 {points}점 감점되었습니다. 현재 점수 :{Aiffel.corepoint[self.name]}점')\n",
    "    \n",
    "    def display_info(self):\n",
    "        with open('core 학적부.csv',\"w\") as f:\n",
    "            f.write(\"이름,학번,과정종류,퀘스트 점수 총합,퀘스트 입력 총합,퀘스트 penalty 총합\\n\")\n",
    "            for name, student_id in Aiffel.coreid.items():\n",
    "                if student_id != 0:\n",
    "                    year = int(f\"20{student_id[:2]}\")\n",
    "                    cnum = int(student_id[2:4])\n",
    "                    course = \"코어\" if student_id[4] == \"2\" else \"리서치\"\n",
    "                    total_score = Aiffel.corepoint[self.name] \n",
    "                    input_total = Aiffel.coreplus[self.name] \n",
    "                    penalty_total = Aiffel.coreminus[self.name]\n",
    "                    f.write(f\"{name},{student_id},{year}년,{cnum}기,{course}과정, {total_score}, {input_total}, {penalty_total}\\n\")\n",
    "\n",
    "        print(\"코어 명단 업데이트 완료\")\n",
    "        \n",
    "    def removestudent(student):\n",
    "        if student in Aiffel.coreid:\n",
    "            del Aiffel.coreid[student]\n",
    "            del Aiffel.corepoint[student]\n",
    "            del Aiffel.coreplus[student]\n",
    "            del Aiffel.coreminus[student]\n",
    "        \n",
    "        print('명단이 갱신되었습니다.')\n",
    "        print('갱신된 명단:')\n",
    "        for name, studentid in Aiffel.coreid.items():\n",
    "            if studentid != 0:\n",
    "                print(f'{name}: {studentid}')   "
   ]
  },
  {
   "cell_type": "code",
   "execution_count": null,
   "id": "c7b92794",
   "metadata": {},
   "outputs": [],
   "source": [
    "class Aiffel_Group(Aiffel):\n",
    "    group_name = [\"상생\", \"신뢰\", \"열정\", \"이끔\", \"성장\", \"가치\", \"공유\", \"확산\"]\n",
    "    def __init__():\n",
    "        go\n",
    "        \n",
    "    def group_student(groupsize):\n",
    "        randomgroup = random.shuffle(Aiffel_Group.group_name)\n",
    "        randomstudent = random.shuffle(Aiffel.coreid)\n",
    "        slicedstudent = randomstudent\n",
    "        studentsnum = len(Aiffel.coreid)\n",
    "        if groupsize < 2 or groupsize > 4:\n",
    "            print('2-4명으로 조를 나누겠습니다')\n",
    "        else:\n",
    "            for j in range(0,studentsnum,groupsize):\n",
    "                \n",
    "                \n",
    "                \n",
    "                \n",
    "        "
   ]
  },
  {
   "cell_type": "code",
   "execution_count": null,
   "id": "96b77f95",
   "metadata": {},
   "outputs": [],
   "source": []
  },
  {
   "cell_type": "code",
   "execution_count": null,
   "id": "4af9a657",
   "metadata": {},
   "outputs": [],
   "source": []
  },
  {
   "cell_type": "code",
   "execution_count": 49,
   "id": "d3d26bf8",
   "metadata": {},
   "outputs": [],
   "source": [
    "a = Aiffel('전재영',2023,26,2)"
   ]
  },
  {
   "cell_type": "code",
   "execution_count": null,
   "id": "2491b0a4",
   "metadata": {},
   "outputs": [],
   "source": []
  },
  {
   "cell_type": "code",
   "execution_count": 50,
   "id": "8d86dd2c",
   "metadata": {},
   "outputs": [
    {
     "name": "stdout",
     "output_type": "stream",
     "text": [
      "퀘스트 점수는 +1점부터 +3점 까지만 가능합니다.\n"
     ]
    }
   ],
   "source": [
    "a.score(15)"
   ]
  },
  {
   "cell_type": "code",
   "execution_count": 51,
   "id": "0db9de18",
   "metadata": {},
   "outputs": [
    {
     "name": "stdout",
     "output_type": "stream",
     "text": [
      "전재영님의 퀘스트 점수가 2점 추가되었습니다. 현재 점수 :2점\n"
     ]
    }
   ],
   "source": [
    "a.score(2)"
   ]
  },
  {
   "cell_type": "code",
   "execution_count": 52,
   "id": "590700c8",
   "metadata": {},
   "outputs": [
    {
     "name": "stdout",
     "output_type": "stream",
     "text": [
      "코어 명단 업데이트 완료\n"
     ]
    }
   ],
   "source": [
    "a.display_info()"
   ]
  },
  {
   "cell_type": "code",
   "execution_count": 53,
   "id": "424a04b2",
   "metadata": {},
   "outputs": [
    {
     "name": "stdout",
     "output_type": "stream",
     "text": [
      "전재영님의 퀘스트 점수가 3점 감점되었습니다. 현재 점수 :-1점\n"
     ]
    }
   ],
   "source": [
    "a.penalty(3)"
   ]
  },
  {
   "cell_type": "code",
   "execution_count": 54,
   "id": "f140644d",
   "metadata": {},
   "outputs": [
    {
     "name": "stdout",
     "output_type": "stream",
     "text": [
      "코어 명단 업데이트 완료\n"
     ]
    }
   ],
   "source": [
    "a.display_info()"
   ]
  },
  {
   "cell_type": "code",
   "execution_count": 55,
   "id": "0db0cb91",
   "metadata": {
    "scrolled": true
   },
   "outputs": [
    {
     "name": "stdout",
     "output_type": "stream",
     "text": [
      "1명의 학번이 부여되었습니다.\n"
     ]
    }
   ],
   "source": [
    "Aiffel.get_id_count()"
   ]
  },
  {
   "cell_type": "code",
   "execution_count": 56,
   "id": "f0332d25",
   "metadata": {},
   "outputs": [
    {
     "name": "stdout",
     "output_type": "stream",
     "text": [
      "명단이 갱신되었습니다.\n",
      "갱신된 명단:\n"
     ]
    }
   ],
   "source": [
    "Aiffel.removestudent('전재영')"
   ]
  },
  {
   "cell_type": "code",
   "execution_count": null,
   "id": "84dcb1f9",
   "metadata": {},
   "outputs": [],
   "source": []
  }
 ],
 "metadata": {
  "kernelspec": {
   "display_name": "Python 3 (ipykernel)",
   "language": "python",
   "name": "python3"
  },
  "language_info": {
   "codemirror_mode": {
    "name": "ipython",
    "version": 3
   },
   "file_extension": ".py",
   "mimetype": "text/x-python",
   "name": "python",
   "nbconvert_exporter": "python",
   "pygments_lexer": "ipython3",
   "version": "3.9.7"
  }
 },
 "nbformat": 4,
 "nbformat_minor": 5
}
