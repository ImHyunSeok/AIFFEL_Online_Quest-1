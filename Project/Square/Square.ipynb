{
 "cells": [
  {
   "cell_type": "code",
   "execution_count": 13,
   "id": "24af81fb",
   "metadata": {},
   "outputs": [],
   "source": [
    "class Square:\n",
    "    def __init__(self):  \n",
    "        self.square = int(input('넓이를 구하고 싶은 사각형의 숫자를 써주세요.\\n 1.직사각형 2.평행사변형 3.사다리꼴 \\n >>>'))  # 입력값을 int로 묶어야 합니다.\n",
    "\n",
    "        if self.square == 1:\n",
    "            print('직사각형 함수는 rect()입니다.')\n",
    "        elif self.square == 2:\n",
    "            print('평행사변형 함수는 par()입니다.')  \n",
    "        elif self.square == 3:\n",
    "            print('사다리꼴 함수는 trape()입니다.')   \n",
    "        else:\n",
    "            print('1, 2, 3 중에서 다시 입력해주세요')\n",
    "            \n",
    "    # 직사각형 메서드            \n",
    "    def rect(self):  \n",
    "        width, vertical = map(int, input('가로, 세로를 입력하세요. 예시 : 가로,세로\\n >>>').split(','))  #가로, 세로를 입력받는 코드\n",
    "        area = str(width * vertical)\n",
    "        result = '직사각형의 넓이는 : ' + area\n",
    "        return result\n",
    "    \n",
    "    # 평행사변형 메서드\n",
    "    def par(self):\n",
    "        a,b= map(int,input('밑변, 높이를 입력하세요. 예시 : 밑변,높이\\n >>>').split(','))\n",
    "        area = str(a*b)\n",
    "        result = '평행사변형의 넓이는 : ' + area\n",
    "        return result\n",
    "\n",
    "    # 사다리꼴 메서드\n",
    "    def trape(self):\n",
    "        a,b,c= map(int,input('밑변, 윗변, 높이를 입력하세요. 예시 : 밑변,윗변,높이\\n >>>').split(','))\n",
    "        area = str((a+b)*c/2)\n",
    "        result = '사다리꼴의 넓이는 : ' + area\n",
    "        return result\n"
   ]
  },
  {
   "cell_type": "code",
   "execution_count": 14,
   "id": "65836b31",
   "metadata": {},
   "outputs": [
    {
     "name": "stdout",
     "output_type": "stream",
     "text": [
      "넓이를 구하고 싶은 사각형의 숫자를 써주세요.\n",
      " 1.직사각형 2.평행사변형 3.사다리꼴 \n",
      " >>>2\n",
      "평행사변형 함수는 par()입니다.\n"
     ]
    }
   ],
   "source": [
    "a = Square()"
   ]
  },
  {
   "cell_type": "code",
   "execution_count": 15,
   "id": "adcddcc5",
   "metadata": {},
   "outputs": [
    {
     "name": "stdout",
     "output_type": "stream",
     "text": [
      "가로, 세로를 입력하세요. 예시 : 가로,세로\n",
      " >>>2,4\n"
     ]
    },
    {
     "data": {
      "text/plain": [
       "'직사각형의 넓이는 : 8'"
      ]
     },
     "execution_count": 15,
     "metadata": {},
     "output_type": "execute_result"
    }
   ],
   "source": [
    "a.rect()"
   ]
  },
  {
   "cell_type": "code",
   "execution_count": 16,
   "id": "84e9bf27",
   "metadata": {},
   "outputs": [
    {
     "name": "stdout",
     "output_type": "stream",
     "text": [
      "밑변, 높이를 입력하세요. 예시 : 밑변,높이\n",
      " >>>4,5\n"
     ]
    },
    {
     "data": {
      "text/plain": [
       "'평행사변형의 넓이는 : 20'"
      ]
     },
     "execution_count": 16,
     "metadata": {},
     "output_type": "execute_result"
    }
   ],
   "source": [
    "a.par()"
   ]
  },
  {
   "cell_type": "code",
   "execution_count": 17,
   "id": "fc7ed9cf",
   "metadata": {},
   "outputs": [
    {
     "name": "stdout",
     "output_type": "stream",
     "text": [
      "밑변, 윗변, 높이를 입력하세요. 예시 : 밑변,윗변,높이\n",
      " >>>2,4,8\n"
     ]
    },
    {
     "data": {
      "text/plain": [
       "'사다리꼴의 넓이는 : 24.0'"
      ]
     },
     "execution_count": 17,
     "metadata": {},
     "output_type": "execute_result"
    }
   ],
   "source": [
    "a.trape()"
   ]
  },
  {
   "cell_type": "code",
   "execution_count": null,
   "id": "2c2433b9",
   "metadata": {},
   "outputs": [],
   "source": []
  }
 ],
 "metadata": {
  "kernelspec": {
   "display_name": "Python 3 (ipykernel)",
   "language": "python",
   "name": "python3"
  },
  "language_info": {
   "codemirror_mode": {
    "name": "ipython",
    "version": 3
   },
   "file_extension": ".py",
   "mimetype": "text/x-python",
   "name": "python",
   "nbconvert_exporter": "python",
   "pygments_lexer": "ipython3",
   "version": "3.9.7"
  }
 },
 "nbformat": 4,
 "nbformat_minor": 5
}
