{
 "cells": [
  {
   "cell_type": "code",
   "execution_count": 1,
   "id": "31a78d53",
   "metadata": {},
   "outputs": [
    {
     "name": "stderr",
     "output_type": "stream",
     "text": [
      "[nltk_data] Downloading package stopwords to /aiffel/nltk_data...\n",
      "[nltk_data]   Package stopwords is already up-to-date!\n"
     ]
    },
    {
     "name": "stdout",
     "output_type": "stream",
     "text": [
      "=3\n"
     ]
    }
   ],
   "source": [
    "import nltk\n",
    "nltk.download('stopwords')\n",
    "\n",
    "import numpy as np\n",
    "import pandas as pd\n",
    "import os\n",
    "import re\n",
    "import matplotlib.pyplot as plt\n",
    "from nltk.corpus import stopwords\n",
    "from bs4 import BeautifulSoup \n",
    "from tensorflow.keras.preprocessing.text import Tokenizer \n",
    "from tensorflow.keras.preprocessing.sequence import pad_sequences\n",
    "import urllib.request\n",
    "import warnings\n",
    "warnings.filterwarnings(\"ignore\", category=UserWarning, module='bs4')\n",
    "\n",
    "print('=3')"
   ]
  },
  {
   "cell_type": "code",
   "execution_count": 2,
   "id": "c215032c",
   "metadata": {},
   "outputs": [],
   "source": [
    "import urllib.request\n",
    "urllib.request.urlretrieve(\"https://raw.githubusercontent.com/sunnysai12345/News_Summary/master/news_summary_more.csv\", filename=\"news_summary_more.csv\")\n",
    "data = pd.read_csv('news_summary_more.csv', encoding='iso-8859-1')"
   ]
  },
  {
   "cell_type": "code",
   "execution_count": 3,
   "id": "9867587c",
   "metadata": {},
   "outputs": [
    {
     "name": "stdout",
     "output_type": "stream",
     "text": [
      "전체 샘플수 : 98401\n"
     ]
    }
   ],
   "source": [
    "print('전체 샘플수 :', (len(data)))"
   ]
  },
  {
   "cell_type": "code",
   "execution_count": 4,
   "id": "f2bf8bf9",
   "metadata": {
    "scrolled": true
   },
   "outputs": [
    {
     "data": {
      "text/html": [
       "<div>\n",
       "<style scoped>\n",
       "    .dataframe tbody tr th:only-of-type {\n",
       "        vertical-align: middle;\n",
       "    }\n",
       "\n",
       "    .dataframe tbody tr th {\n",
       "        vertical-align: top;\n",
       "    }\n",
       "\n",
       "    .dataframe thead th {\n",
       "        text-align: right;\n",
       "    }\n",
       "</style>\n",
       "<table border=\"1\" class=\"dataframe\">\n",
       "  <thead>\n",
       "    <tr style=\"text-align: right;\">\n",
       "      <th></th>\n",
       "      <th>headlines</th>\n",
       "      <th>text</th>\n",
       "    </tr>\n",
       "  </thead>\n",
       "  <tbody>\n",
       "    <tr>\n",
       "      <th>0</th>\n",
       "      <td>upGrad learner switches to career in ML &amp; Al w...</td>\n",
       "      <td>Saurav Kant, an alumnus of upGrad and IIIT-B's...</td>\n",
       "    </tr>\n",
       "    <tr>\n",
       "      <th>1</th>\n",
       "      <td>Delhi techie wins free food from Swiggy for on...</td>\n",
       "      <td>Kunal Shah's credit card bill payment platform...</td>\n",
       "    </tr>\n",
       "    <tr>\n",
       "      <th>2</th>\n",
       "      <td>New Zealand end Rohit Sharma-led India's 12-ma...</td>\n",
       "      <td>New Zealand defeated India by 8 wickets in the...</td>\n",
       "    </tr>\n",
       "    <tr>\n",
       "      <th>3</th>\n",
       "      <td>Aegon life iTerm insurance plan helps customer...</td>\n",
       "      <td>With Aegon Life iTerm Insurance plan, customer...</td>\n",
       "    </tr>\n",
       "    <tr>\n",
       "      <th>4</th>\n",
       "      <td>Have known Hirani for yrs, what if MeToo claim...</td>\n",
       "      <td>Speaking about the sexual harassment allegatio...</td>\n",
       "    </tr>\n",
       "  </tbody>\n",
       "</table>\n",
       "</div>"
      ],
      "text/plain": [
       "                                           headlines  \\\n",
       "0  upGrad learner switches to career in ML & Al w...   \n",
       "1  Delhi techie wins free food from Swiggy for on...   \n",
       "2  New Zealand end Rohit Sharma-led India's 12-ma...   \n",
       "3  Aegon life iTerm insurance plan helps customer...   \n",
       "4  Have known Hirani for yrs, what if MeToo claim...   \n",
       "\n",
       "                                                text  \n",
       "0  Saurav Kant, an alumnus of upGrad and IIIT-B's...  \n",
       "1  Kunal Shah's credit card bill payment platform...  \n",
       "2  New Zealand defeated India by 8 wickets in the...  \n",
       "3  With Aegon Life iTerm Insurance plan, customer...  \n",
       "4  Speaking about the sexual harassment allegatio...  "
      ]
     },
     "execution_count": 4,
     "metadata": {},
     "output_type": "execute_result"
    }
   ],
   "source": [
    "data.head()"
   ]
  },
  {
   "cell_type": "code",
   "execution_count": 5,
   "id": "86d1cbb9",
   "metadata": {},
   "outputs": [
    {
     "data": {
      "text/html": [
       "<div>\n",
       "<style scoped>\n",
       "    .dataframe tbody tr th:only-of-type {\n",
       "        vertical-align: middle;\n",
       "    }\n",
       "\n",
       "    .dataframe tbody tr th {\n",
       "        vertical-align: top;\n",
       "    }\n",
       "\n",
       "    .dataframe thead th {\n",
       "        text-align: right;\n",
       "    }\n",
       "</style>\n",
       "<table border=\"1\" class=\"dataframe\">\n",
       "  <thead>\n",
       "    <tr style=\"text-align: right;\">\n",
       "      <th></th>\n",
       "      <th>headlines</th>\n",
       "      <th>text</th>\n",
       "    </tr>\n",
       "  </thead>\n",
       "  <tbody>\n",
       "    <tr>\n",
       "      <th>26611</th>\n",
       "      <td>US woman on oxygen dies after power shut over ...</td>\n",
       "      <td>A 68-year-old US woman who was reliant on an o...</td>\n",
       "    </tr>\n",
       "    <tr>\n",
       "      <th>60192</th>\n",
       "      <td>Bitcoin price tops $8,000, rallies over 700% t...</td>\n",
       "      <td>The price of the world's largest cryptocurrenc...</td>\n",
       "    </tr>\n",
       "    <tr>\n",
       "      <th>86813</th>\n",
       "      <td>How has India's performance been in ICC Champi...</td>\n",
       "      <td>India have played the ICC Champions Trophy in ...</td>\n",
       "    </tr>\n",
       "    <tr>\n",
       "      <th>62871</th>\n",
       "      <td>Apple faces lawsuit in US over sharing chip co...</td>\n",
       "      <td>Chipmaker Qualcomm has sued Apple in the US al...</td>\n",
       "    </tr>\n",
       "    <tr>\n",
       "      <th>82256</th>\n",
       "      <td>Pranab Mukherjee greets US on Independence Day</td>\n",
       "      <td>President Pranab Mukherjee extended his greeti...</td>\n",
       "    </tr>\n",
       "    <tr>\n",
       "      <th>25146</th>\n",
       "      <td>When the person you hate has notes, tweets use...</td>\n",
       "      <td>Reacting to Congress President Rahul Gandhi hu...</td>\n",
       "    </tr>\n",
       "    <tr>\n",
       "      <th>21445</th>\n",
       "      <td>PM Modi shares Shankar Mahadevan's video tribu...</td>\n",
       "      <td>Prime Minister Narendra Modi has shared a vide...</td>\n",
       "    </tr>\n",
       "    <tr>\n",
       "      <th>55675</th>\n",
       "      <td>12-yr-old differently-abled Pak boy held by In...</td>\n",
       "      <td>A 12-year-old Pakistani boy with hearing and s...</td>\n",
       "    </tr>\n",
       "    <tr>\n",
       "      <th>79725</th>\n",
       "      <td>Kerala to get fifth airport near Sabarimala te...</td>\n",
       "      <td>The Kerala government on Wednesday approved th...</td>\n",
       "    </tr>\n",
       "    <tr>\n",
       "      <th>38142</th>\n",
       "      <td>My wife won't contest polls as no nepotism in ...</td>\n",
       "      <td>Samajwadi Party chief Akhilesh Yadav on Thursd...</td>\n",
       "    </tr>\n",
       "    <tr>\n",
       "      <th>47427</th>\n",
       "      <td>I had a hard time hearing: Federer on becoming...</td>\n",
       "      <td>After becoming the oldest men's singles world ...</td>\n",
       "    </tr>\n",
       "    <tr>\n",
       "      <th>36107</th>\n",
       "      <td>Kochhars had links with Videocon group since a...</td>\n",
       "      <td>ICICI Bank CEO Chanda Kochhar and six family m...</td>\n",
       "    </tr>\n",
       "    <tr>\n",
       "      <th>17619</th>\n",
       "      <td>T'gana bus accident victims' kin use husk to p...</td>\n",
       "      <td>Many families who lost members in the Telangan...</td>\n",
       "    </tr>\n",
       "    <tr>\n",
       "      <th>73154</th>\n",
       "      <td>PV Sindhu second Indian to win silver at World...</td>\n",
       "      <td>Shuttler PV Sindhu became the second Indian to...</td>\n",
       "    </tr>\n",
       "    <tr>\n",
       "      <th>45283</th>\n",
       "      <td>Did 3 cult films yet makers couldn't find role...</td>\n",
       "      <td>Manoj Bajpayee said that even after doing cult...</td>\n",
       "    </tr>\n",
       "  </tbody>\n",
       "</table>\n",
       "</div>"
      ],
      "text/plain": [
       "                                               headlines  \\\n",
       "26611  US woman on oxygen dies after power shut over ...   \n",
       "60192  Bitcoin price tops $8,000, rallies over 700% t...   \n",
       "86813  How has India's performance been in ICC Champi...   \n",
       "62871  Apple faces lawsuit in US over sharing chip co...   \n",
       "82256     Pranab Mukherjee greets US on Independence Day   \n",
       "25146  When the person you hate has notes, tweets use...   \n",
       "21445  PM Modi shares Shankar Mahadevan's video tribu...   \n",
       "55675  12-yr-old differently-abled Pak boy held by In...   \n",
       "79725  Kerala to get fifth airport near Sabarimala te...   \n",
       "38142  My wife won't contest polls as no nepotism in ...   \n",
       "47427  I had a hard time hearing: Federer on becoming...   \n",
       "36107  Kochhars had links with Videocon group since a...   \n",
       "17619  T'gana bus accident victims' kin use husk to p...   \n",
       "73154  PV Sindhu second Indian to win silver at World...   \n",
       "45283  Did 3 cult films yet makers couldn't find role...   \n",
       "\n",
       "                                                    text  \n",
       "26611  A 68-year-old US woman who was reliant on an o...  \n",
       "60192  The price of the world's largest cryptocurrenc...  \n",
       "86813  India have played the ICC Champions Trophy in ...  \n",
       "62871  Chipmaker Qualcomm has sued Apple in the US al...  \n",
       "82256  President Pranab Mukherjee extended his greeti...  \n",
       "25146  Reacting to Congress President Rahul Gandhi hu...  \n",
       "21445  Prime Minister Narendra Modi has shared a vide...  \n",
       "55675  A 12-year-old Pakistani boy with hearing and s...  \n",
       "79725  The Kerala government on Wednesday approved th...  \n",
       "38142  Samajwadi Party chief Akhilesh Yadav on Thursd...  \n",
       "47427  After becoming the oldest men's singles world ...  \n",
       "36107  ICICI Bank CEO Chanda Kochhar and six family m...  \n",
       "17619  Many families who lost members in the Telangan...  \n",
       "73154  Shuttler PV Sindhu became the second Indian to...  \n",
       "45283  Manoj Bajpayee said that even after doing cult...  "
      ]
     },
     "execution_count": 5,
     "metadata": {},
     "output_type": "execute_result"
    }
   ],
   "source": [
    "#랜덤한 15개 샘플 출력\n",
    "data.sample(15)"
   ]
  },
  {
   "cell_type": "code",
   "execution_count": 6,
   "id": "527a4f0d",
   "metadata": {},
   "outputs": [
    {
     "name": "stdout",
     "output_type": "stream",
     "text": [
      "Text 열에서 중복을 배제한 유일한 샘플의 수 : 98360\n",
      "Headlines 열에서 중복을 배제한 유일한 샘플의 수 : 98280\n"
     ]
    }
   ],
   "source": [
    "print('Text 열에서 중복을 배제한 유일한 샘플의 수 :', data['text'].nunique())\n",
    "print('Headlines 열에서 중복을 배제한 유일한 샘플의 수 :', data['headlines'].nunique())"
   ]
  },
  {
   "cell_type": "code",
   "execution_count": 7,
   "id": "e8ac8a34",
   "metadata": {},
   "outputs": [
    {
     "name": "stdout",
     "output_type": "stream",
     "text": [
      "전체 샘플수 : 98360\n"
     ]
    }
   ],
   "source": [
    "# inplace=True 를 설정하면 DataFrame 타입 값을 return 하지 않고 data 내부를 직접적으로 바꿉니다\n",
    "data.drop_duplicates(subset = ['text'], inplace=True)\n",
    "print('전체 샘플수 :', (len(data)))"
   ]
  },
  {
   "cell_type": "code",
   "execution_count": 8,
   "id": "493cb9b7",
   "metadata": {},
   "outputs": [
    {
     "name": "stdout",
     "output_type": "stream",
     "text": [
      "headlines    0\n",
      "text         0\n",
      "dtype: int64\n"
     ]
    }
   ],
   "source": [
    "print(data.isnull().sum())"
   ]
  },
  {
   "cell_type": "code",
   "execution_count": 9,
   "id": "f23f77eb",
   "metadata": {},
   "outputs": [
    {
     "name": "stdout",
     "output_type": "stream",
     "text": [
      "정규화 사전의 수:  120\n"
     ]
    }
   ],
   "source": [
    "contractions = {\"ain't\": \"is not\", \"aren't\": \"are not\",\"can't\": \"cannot\", \"'cause\": \"because\", \"could've\": \"could have\", \"couldn't\": \"could not\",\n",
    "                           \"didn't\": \"did not\",  \"doesn't\": \"does not\", \"don't\": \"do not\", \"hadn't\": \"had not\", \"hasn't\": \"has not\", \"haven't\": \"have not\",\n",
    "                           \"he'd\": \"he would\",\"he'll\": \"he will\", \"he's\": \"he is\", \"how'd\": \"how did\", \"how'd'y\": \"how do you\", \"how'll\": \"how will\", \"how's\": \"how is\",\n",
    "                           \"I'd\": \"I would\", \"I'd've\": \"I would have\", \"I'll\": \"I will\", \"I'll've\": \"I will have\",\"I'm\": \"I am\", \"I've\": \"I have\", \"i'd\": \"i would\",\n",
    "                           \"i'd've\": \"i would have\", \"i'll\": \"i will\",  \"i'll've\": \"i will have\",\"i'm\": \"i am\", \"i've\": \"i have\", \"isn't\": \"is not\", \"it'd\": \"it would\",\n",
    "                           \"it'd've\": \"it would have\", \"it'll\": \"it will\", \"it'll've\": \"it will have\",\"it's\": \"it is\", \"let's\": \"let us\", \"ma'am\": \"madam\",\n",
    "                           \"mayn't\": \"may not\", \"might've\": \"might have\",\"mightn't\": \"might not\",\"mightn't've\": \"might not have\", \"must've\": \"must have\",\n",
    "                           \"mustn't\": \"must not\", \"mustn't've\": \"must not have\", \"needn't\": \"need not\", \"needn't've\": \"need not have\",\"o'clock\": \"of the clock\",\n",
    "                           \"oughtn't\": \"ought not\", \"oughtn't've\": \"ought not have\", \"shan't\": \"shall not\", \"sha'n't\": \"shall not\", \"shan't've\": \"shall not have\",\n",
    "                           \"she'd\": \"she would\", \"she'd've\": \"she would have\", \"she'll\": \"she will\", \"she'll've\": \"she will have\", \"she's\": \"she is\",\n",
    "                           \"should've\": \"should have\", \"shouldn't\": \"should not\", \"shouldn't've\": \"should not have\", \"so've\": \"so have\",\"so's\": \"so as\",\n",
    "                           \"this's\": \"this is\",\"that'd\": \"that would\", \"that'd've\": \"that would have\", \"that's\": \"that is\", \"there'd\": \"there would\",\n",
    "                           \"there'd've\": \"there would have\", \"there's\": \"there is\", \"here's\": \"here is\",\"they'd\": \"they would\", \"they'd've\": \"they would have\",\n",
    "                           \"they'll\": \"they will\", \"they'll've\": \"they will have\", \"they're\": \"they are\", \"they've\": \"they have\", \"to've\": \"to have\",\n",
    "                           \"wasn't\": \"was not\", \"we'd\": \"we would\", \"we'd've\": \"we would have\", \"we'll\": \"we will\", \"we'll've\": \"we will have\", \"we're\": \"we are\",\n",
    "                           \"we've\": \"we have\", \"weren't\": \"were not\", \"what'll\": \"what will\", \"what'll've\": \"what will have\", \"what're\": \"what are\",\n",
    "                           \"what's\": \"what is\", \"what've\": \"what have\", \"when's\": \"when is\", \"when've\": \"when have\", \"where'd\": \"where did\", \"where's\": \"where is\",\n",
    "                           \"where've\": \"where have\", \"who'll\": \"who will\", \"who'll've\": \"who will have\", \"who's\": \"who is\", \"who've\": \"who have\",\n",
    "                           \"why's\": \"why is\", \"why've\": \"why have\", \"will've\": \"will have\", \"won't\": \"will not\", \"won't've\": \"will not have\",\n",
    "                           \"would've\": \"would have\", \"wouldn't\": \"would not\", \"wouldn't've\": \"would not have\", \"y'all\": \"you all\",\n",
    "                           \"y'all'd\": \"you all would\",\"y'all'd've\": \"you all would have\",\"y'all're\": \"you all are\",\"y'all've\": \"you all have\",\n",
    "                           \"you'd\": \"you would\", \"you'd've\": \"you would have\", \"you'll\": \"you will\", \"you'll've\": \"you will have\",\n",
    "                           \"you're\": \"you are\", \"you've\": \"you have\"}\n",
    "\n",
    "print(\"정규화 사전의 수: \", len(contractions))"
   ]
  },
  {
   "cell_type": "code",
   "execution_count": 10,
   "id": "143d1627",
   "metadata": {},
   "outputs": [
    {
     "name": "stdout",
     "output_type": "stream",
     "text": [
      "불용어 개수 : 179\n",
      "['i', 'me', 'my', 'myself', 'we', 'our', 'ours', 'ourselves', 'you', \"you're\", \"you've\", \"you'll\", \"you'd\", 'your', 'yours', 'yourself', 'yourselves', 'he', 'him', 'his', 'himself', 'she', \"she's\", 'her', 'hers', 'herself', 'it', \"it's\", 'its', 'itself', 'they', 'them', 'their', 'theirs', 'themselves', 'what', 'which', 'who', 'whom', 'this', 'that', \"that'll\", 'these', 'those', 'am', 'is', 'are', 'was', 'were', 'be', 'been', 'being', 'have', 'has', 'had', 'having', 'do', 'does', 'did', 'doing', 'a', 'an', 'the', 'and', 'but', 'if', 'or', 'because', 'as', 'until', 'while', 'of', 'at', 'by', 'for', 'with', 'about', 'against', 'between', 'into', 'through', 'during', 'before', 'after', 'above', 'below', 'to', 'from', 'up', 'down', 'in', 'out', 'on', 'off', 'over', 'under', 'again', 'further', 'then', 'once', 'here', 'there', 'when', 'where', 'why', 'how', 'all', 'any', 'both', 'each', 'few', 'more', 'most', 'other', 'some', 'such', 'no', 'nor', 'not', 'only', 'own', 'same', 'so', 'than', 'too', 'very', 's', 't', 'can', 'will', 'just', 'don', \"don't\", 'should', \"should've\", 'now', 'd', 'll', 'm', 'o', 're', 've', 'y', 'ain', 'aren', \"aren't\", 'couldn', \"couldn't\", 'didn', \"didn't\", 'doesn', \"doesn't\", 'hadn', \"hadn't\", 'hasn', \"hasn't\", 'haven', \"haven't\", 'isn', \"isn't\", 'ma', 'mightn', \"mightn't\", 'mustn', \"mustn't\", 'needn', \"needn't\", 'shan', \"shan't\", 'shouldn', \"shouldn't\", 'wasn', \"wasn't\", 'weren', \"weren't\", 'won', \"won't\", 'wouldn', \"wouldn't\"]\n"
     ]
    }
   ],
   "source": [
    "print('불용어 개수 :', len(stopwords.words('english') ))\n",
    "print(stopwords.words('english'))"
   ]
  },
  {
   "cell_type": "code",
   "execution_count": 11,
   "id": "5dbeec06",
   "metadata": {},
   "outputs": [
    {
     "name": "stdout",
     "output_type": "stream",
     "text": [
      "=3\n"
     ]
    }
   ],
   "source": [
    "# 데이터 전처리 함수\n",
    "def preprocess_sentence(sentence, remove_stopwords=True):\n",
    "    sentence = sentence.lower() # 텍스트 소문자화\n",
    "    sentence = BeautifulSoup(sentence, \"lxml\").text # <br />, <a href = ...> 등의 html 태그 제거\n",
    "    sentence = re.sub(r'\\([^)]*\\)', '', sentence) # 괄호로 닫힌 문자열 (...) 제거 Ex) my husband (and myself!) for => my husband for\n",
    "    sentence = re.sub('\"','', sentence) # 쌍따옴표 \" 제거\n",
    "    sentence = ' '.join([contractions[t] if t in contractions else t for t in sentence.split(\" \")]) # 약어 정규화\n",
    "    sentence = re.sub(r\"'s\\b\",\"\", sentence) # 소유격 제거. Ex) roland's -> roland\n",
    "    sentence = re.sub(\"[^a-zA-Z]\", \" \", sentence) # 영어 외 문자(숫자, 특수문자 등) 공백으로 변환\n",
    "    sentence = re.sub('[m]{2,}', 'mm', sentence) # m이 3개 이상이면 2개로 변경. Ex) ummmmmmm yeah -> umm yeah\n",
    "    \n",
    "    # 불용어 제거 (Text)\n",
    "    if remove_stopwords:\n",
    "        tokens = ' '.join(word for word in sentence.split() if not word in stopwords.words('english') if len(word) > 1)\n",
    "    # 불용어 미제거 (Summary)\n",
    "    else:\n",
    "        tokens = ' '.join(word for word in sentence.split() if len(word) > 1)\n",
    "    return tokens\n",
    "print('=3')"
   ]
  },
  {
   "cell_type": "code",
   "execution_count": 12,
   "id": "ef18a599",
   "metadata": {},
   "outputs": [
    {
     "name": "stdout",
     "output_type": "stream",
     "text": [
      "Text 전처리 후 결과:  ['saurav kant alumnus upgrad iiit pg program machine learning artificial intelligence sr systems engineer infosys almost years work experience program upgrad degree career support helped transition data scientist tech mahindra salary hike upgrad online power learning powered lakh careers', 'kunal shah credit card bill payment platform cred gave users chance win free food swiggy one year pranav kaushik delhi techie bagged reward spending cred coins users get one cred coin per rupee bill paid used avail rewards brands like ixigo bookmyshow ubereats cult fit', 'new zealand defeated india wickets fourth odi hamilton thursday win first match five match odi series india lost international match rohit sharma captaincy consecutive victories dating back march match witnessed india getting seventh lowest total odi cricket history', 'aegon life iterm insurance plan customers enjoy tax benefits premiums paid save taxes plan provides life cover age years also customers options insure critical illnesses disability accidental death benefit rider life cover age years', 'speaking sexual harassment allegations rajkumar hirani sonam kapoor said known hirani many years true metoo movement get derailed metoo movement always believe woman case need reserve judgment added hirani accused assistant worked sanju']\n"
     ]
    }
   ],
   "source": [
    "# 전체 Text 데이터에 대한 전처리 : 10분 이상 시간이 걸릴 수 있습니다. \n",
    "clean_text = []\n",
    "for sentence in data['text']:\n",
    "    clean_text.append(preprocess_sentence(sentence, remove_stopwords=True))\n",
    "# [[YOUR CODE]]\n",
    "\n",
    "# 전처리 후 출력\n",
    "print(\"Text 전처리 후 결과: \", clean_text[:5])"
   ]
  },
  {
   "cell_type": "code",
   "execution_count": 13,
   "id": "ed27f473",
   "metadata": {},
   "outputs": [
    {
     "name": "stdout",
     "output_type": "stream",
     "text": [
      "Summary 전처리 후 결과:  ['upgrad learner switches to career in ml al with salary hike', 'delhi techie wins free food from swiggy for one year on cred', 'new zealand end rohit sharma led india match winning streak', 'aegon life iterm insurance plan helps customers save tax', 'have known hirani for yrs what if metoo claims are not true sonam']\n"
     ]
    }
   ],
   "source": [
    "# 전체 Summary 데이터에 대한 전처리 : 5분 이상 시간이 걸릴 수 있습니다. \n",
    "clean_headlines = []\n",
    "for sentence in data['headlines']:\n",
    "    clean_headlines.append(preprocess_sentence(sentence, remove_stopwords=False))\n",
    "# [[YOUR CODE]]\n",
    "\n",
    "print(\"Summary 전처리 후 결과: \", clean_headlines[:5])"
   ]
  },
  {
   "cell_type": "code",
   "execution_count": 14,
   "id": "f7e5ce69",
   "metadata": {},
   "outputs": [
    {
     "name": "stdout",
     "output_type": "stream",
     "text": [
      "=3\n"
     ]
    }
   ],
   "source": [
    "data['headlines'] = clean_headlines\n",
    "data['text'] = clean_text\n",
    "\n",
    "# 빈 값을 Null 값으로 변환\n",
    "data.replace('', np.nan, inplace=True)\n",
    "print('=3')"
   ]
  },
  {
   "cell_type": "code",
   "execution_count": 15,
   "id": "8286adab",
   "metadata": {},
   "outputs": [
    {
     "data": {
      "text/plain": [
       "headlines    0\n",
       "text         0\n",
       "dtype: int64"
      ]
     },
     "execution_count": 15,
     "metadata": {},
     "output_type": "execute_result"
    }
   ],
   "source": [
    "data.isnull().sum()"
   ]
  },
  {
   "cell_type": "code",
   "execution_count": 16,
   "id": "50ece911",
   "metadata": {
    "scrolled": true
   },
   "outputs": [
    {
     "name": "stdout",
     "output_type": "stream",
     "text": [
      "텍스트의 최소 길이 : 1\n",
      "텍스트의 최대 길이 : 60\n",
      "텍스트의 평균 길이 : 35.09968483123221\n",
      "요약의 최소 길이 : 1\n",
      "요약의 최대 길이 : 16\n",
      "요약의 평균 길이 : 9.299532330215534\n"
     ]
    },
    {
     "data": {
      "image/png": "[encoded data removed]",
      "text/plain": [
       "<Figure size 432x288 with 2 Axes>"
      ]
     },
     "metadata": {
      "needs_background": "light"
     },
     "output_type": "display_data"
    },
    {
     "data": {
      "image/png": "[encoded data removed]",
      "text/plain": [
       "<Figure size 432x288 with 1 Axes>"
      ]
     },
     "metadata": {
      "needs_background": "light"
     },
     "output_type": "display_data"
    },
    {
     "data": {
      "image/png": "[encoded data removed]",
      "text/plain": [
       "<Figure size 432x288 with 1 Axes>"
      ]
     },
     "metadata": {
      "needs_background": "light"
     },
     "output_type": "display_data"
    }
   ],
   "source": [
    "# 길이 분포 출력\n",
    "import matplotlib.pyplot as plt\n",
    "\n",
    "text_len = [len(s.split()) for s in data['text']]\n",
    "headlines_len = [len(s.split()) for s in data['headlines']]\n",
    "\n",
    "print('텍스트의 최소 길이 : {}'.format(np.min(text_len)))\n",
    "print('텍스트의 최대 길이 : {}'.format(np.max(text_len)))\n",
    "print('텍스트의 평균 길이 : {}'.format(np.mean(text_len)))\n",
    "print('요약의 최소 길이 : {}'.format(np.min(headlines_len)))\n",
    "print('요약의 최대 길이 : {}'.format(np.max(headlines_len)))\n",
    "print('요약의 평균 길이 : {}'.format(np.mean(headlines_len)))\n",
    "\n",
    "plt.subplot(1,2,1)\n",
    "plt.boxplot(text_len)\n",
    "plt.title('text')\n",
    "plt.subplot(1,2,2)\n",
    "plt.boxplot(headlines_len)\n",
    "plt.title('headlines')\n",
    "plt.tight_layout()\n",
    "plt.show()\n",
    "\n",
    "plt.title('text')\n",
    "plt.hist(text_len, bins = 40)\n",
    "plt.xlabel('length of samples')\n",
    "plt.ylabel('number of samples')\n",
    "plt.show()\n",
    "\n",
    "plt.title('headlines')\n",
    "plt.hist(headlines_len, bins = 40)\n",
    "plt.xlabel('length of samples')\n",
    "plt.ylabel('number of samples')\n",
    "plt.show()"
   ]
  },
  {
   "cell_type": "code",
   "execution_count": 17,
   "id": "6aafab94",
   "metadata": {},
   "outputs": [
    {
     "name": "stdout",
     "output_type": "stream",
     "text": [
      "=3\n"
     ]
    }
   ],
   "source": [
    "text_max_len = 60\n",
    "headlines_max_len = 12\n",
    "print('=3')"
   ]
  },
  {
   "cell_type": "code",
   "execution_count": 18,
   "id": "bc9c5828",
   "metadata": {},
   "outputs": [
    {
     "name": "stdout",
     "output_type": "stream",
     "text": [
      "=3\n"
     ]
    }
   ],
   "source": [
    "def below_threshold_len(max_len, nested_list):\n",
    "  cnt = 0\n",
    "  for s in nested_list:\n",
    "    if(len(s.split()) <= max_len):\n",
    "        cnt = cnt + 1\n",
    "  print('전체 샘플 중 길이가 %s 이하인 샘플의 비율: %s'%(max_len, (cnt / len(nested_list))))\n",
    "print('=3')"
   ]
  },
  {
   "cell_type": "code",
   "execution_count": 19,
   "id": "7adb403a",
   "metadata": {
    "scrolled": true
   },
   "outputs": [
    {
     "name": "stdout",
     "output_type": "stream",
     "text": [
      "전체 샘플 중 길이가 60 이하인 샘플의 비율: 1.0\n",
      "전체 샘플 중 길이가 12 이하인 샘플의 비율: 0.9880337535583571\n"
     ]
    }
   ],
   "source": [
    "below_threshold_len(text_max_len, data['text'])\n",
    "below_threshold_len(headlines_max_len,  data['headlines'])"
   ]
  },
  {
   "cell_type": "code",
   "execution_count": 20,
   "id": "a6f225cc",
   "metadata": {},
   "outputs": [
    {
     "name": "stdout",
     "output_type": "stream",
     "text": [
      "전체 샘플수 : 97183\n"
     ]
    }
   ],
   "source": [
    "# [[YOUR CODE]]\n",
    "data = data[(data['text'].apply(lambda x: len(x.split())) <= text_max_len) & \n",
    "                                   (data['headlines'].apply(lambda x: len(x.split())) <= headlines_max_len)]\n",
    "\n",
    "\n",
    "print('전체 샘플수 :', (len(data)))"
   ]
  },
  {
   "cell_type": "code",
   "execution_count": 21,
   "id": "7e10e88c",
   "metadata": {},
   "outputs": [
    {
     "data": {
      "text/html": [
       "<div>\n",
       "<style scoped>\n",
       "    .dataframe tbody tr th:only-of-type {\n",
       "        vertical-align: middle;\n",
       "    }\n",
       "\n",
       "    .dataframe tbody tr th {\n",
       "        vertical-align: top;\n",
       "    }\n",
       "\n",
       "    .dataframe thead th {\n",
       "        text-align: right;\n",
       "    }\n",
       "</style>\n",
       "<table border=\"1\" class=\"dataframe\">\n",
       "  <thead>\n",
       "    <tr style=\"text-align: right;\">\n",
       "      <th></th>\n",
       "      <th>headlines</th>\n",
       "      <th>text</th>\n",
       "      <th>decoder_input</th>\n",
       "      <th>decoder_target</th>\n",
       "    </tr>\n",
       "  </thead>\n",
       "  <tbody>\n",
       "    <tr>\n",
       "      <th>0</th>\n",
       "      <td>upgrad learner switches to career in ml al wit...</td>\n",
       "      <td>saurav kant alumnus upgrad iiit pg program mac...</td>\n",
       "      <td>sostoken upgrad learner switches to career in ...</td>\n",
       "      <td>upgrad learner switches to career in ml al wit...</td>\n",
       "    </tr>\n",
       "    <tr>\n",
       "      <th>1</th>\n",
       "      <td>delhi techie wins free food from swiggy for on...</td>\n",
       "      <td>kunal shah credit card bill payment platform c...</td>\n",
       "      <td>sostoken delhi techie wins free food from swig...</td>\n",
       "      <td>delhi techie wins free food from swiggy for on...</td>\n",
       "    </tr>\n",
       "    <tr>\n",
       "      <th>2</th>\n",
       "      <td>new zealand end rohit sharma led india match w...</td>\n",
       "      <td>new zealand defeated india wickets fourth odi ...</td>\n",
       "      <td>sostoken new zealand end rohit sharma led indi...</td>\n",
       "      <td>new zealand end rohit sharma led india match w...</td>\n",
       "    </tr>\n",
       "    <tr>\n",
       "      <th>3</th>\n",
       "      <td>aegon life iterm insurance plan helps customer...</td>\n",
       "      <td>aegon life iterm insurance plan customers enjo...</td>\n",
       "      <td>sostoken aegon life iterm insurance plan helps...</td>\n",
       "      <td>aegon life iterm insurance plan helps customer...</td>\n",
       "    </tr>\n",
       "    <tr>\n",
       "      <th>5</th>\n",
       "      <td>rahat fateh ali khan denies getting notice for...</td>\n",
       "      <td>pakistani singer rahat fateh ali khan denied r...</td>\n",
       "      <td>sostoken rahat fateh ali khan denies getting n...</td>\n",
       "      <td>rahat fateh ali khan denies getting notice for...</td>\n",
       "    </tr>\n",
       "  </tbody>\n",
       "</table>\n",
       "</div>"
      ],
      "text/plain": [
       "                                           headlines  \\\n",
       "0  upgrad learner switches to career in ml al wit...   \n",
       "1  delhi techie wins free food from swiggy for on...   \n",
       "2  new zealand end rohit sharma led india match w...   \n",
       "3  aegon life iterm insurance plan helps customer...   \n",
       "5  rahat fateh ali khan denies getting notice for...   \n",
       "\n",
       "                                                text  \\\n",
       "0  saurav kant alumnus upgrad iiit pg program mac...   \n",
       "1  kunal shah credit card bill payment platform c...   \n",
       "2  new zealand defeated india wickets fourth odi ...   \n",
       "3  aegon life iterm insurance plan customers enjo...   \n",
       "5  pakistani singer rahat fateh ali khan denied r...   \n",
       "\n",
       "                                       decoder_input  \\\n",
       "0  sostoken upgrad learner switches to career in ...   \n",
       "1  sostoken delhi techie wins free food from swig...   \n",
       "2  sostoken new zealand end rohit sharma led indi...   \n",
       "3  sostoken aegon life iterm insurance plan helps...   \n",
       "5  sostoken rahat fateh ali khan denies getting n...   \n",
       "\n",
       "                                      decoder_target  \n",
       "0  upgrad learner switches to career in ml al wit...  \n",
       "1  delhi techie wins free food from swiggy for on...  \n",
       "2  new zealand end rohit sharma led india match w...  \n",
       "3  aegon life iterm insurance plan helps customer...  \n",
       "5  rahat fateh ali khan denies getting notice for...  "
      ]
     },
     "execution_count": 21,
     "metadata": {},
     "output_type": "execute_result"
    }
   ],
   "source": [
    "# 요약 데이터에는 시작 토큰과 종료 토큰을 추가한다.\n",
    "data['decoder_input'] = data['headlines'].apply(lambda x : 'sostoken '+ x)\n",
    "data['decoder_target'] = data['headlines'].apply(lambda x : x + ' eostoken')\n",
    "data.head()"
   ]
  },
  {
   "cell_type": "code",
   "execution_count": 22,
   "id": "89eb7ea0",
   "metadata": {},
   "outputs": [
    {
     "name": "stdout",
     "output_type": "stream",
     "text": [
      "=3\n"
     ]
    }
   ],
   "source": [
    "encoder_input = np.array(data['text']) # 인코더의 입력\n",
    "decoder_input = np.array(data['decoder_input']) # 디코더의 입력\n",
    "decoder_target = np.array(data['decoder_target']) # 디코더의 레이블\n",
    "print('=3')"
   ]
  },
  {
   "cell_type": "code",
   "execution_count": 23,
   "id": "cc7149a4",
   "metadata": {},
   "outputs": [
    {
     "name": "stdout",
     "output_type": "stream",
     "text": [
      "[90203  1549  7543 ... 55907 21787 14036]\n"
     ]
    }
   ],
   "source": [
    "indices = np.arange(encoder_input.shape[0])\n",
    "np.random.shuffle(indices)\n",
    "print(indices)"
   ]
  },
  {
   "cell_type": "code",
   "execution_count": 24,
   "id": "441805db",
   "metadata": {},
   "outputs": [
    {
     "name": "stdout",
     "output_type": "stream",
     "text": [
      "=3\n"
     ]
    }
   ],
   "source": [
    "encoder_input = encoder_input[indices]\n",
    "decoder_input = decoder_input[indices]\n",
    "decoder_target = decoder_target[indices]\n",
    "print('=3')"
   ]
  },
  {
   "cell_type": "code",
   "execution_count": 25,
   "id": "59e240c4",
   "metadata": {},
   "outputs": [
    {
     "name": "stdout",
     "output_type": "stream",
     "text": [
      "테스트 데이터의 수 : 19436\n"
     ]
    }
   ],
   "source": [
    "n_of_val = int(len(encoder_input)*0.2)\n",
    "print('테스트 데이터의 수 :', n_of_val)"
   ]
  },
  {
   "cell_type": "code",
   "execution_count": 26,
   "id": "abef34e1",
   "metadata": {},
   "outputs": [
    {
     "name": "stdout",
     "output_type": "stream",
     "text": [
      "훈련 데이터의 개수 : 77747\n",
      "훈련 레이블의 개수 : 77747\n",
      "테스트 데이터의 개수 : 19436\n",
      "테스트 레이블의 개수 : 19436\n"
     ]
    }
   ],
   "source": [
    "encoder_input_train = encoder_input[:-n_of_val]\n",
    "decoder_input_train = decoder_input[:-n_of_val]\n",
    "decoder_target_train = decoder_target[:-n_of_val]\n",
    "\n",
    "encoder_input_test = encoder_input[-n_of_val:]\n",
    "decoder_input_test = decoder_input[-n_of_val:]\n",
    "decoder_target_test = decoder_target[-n_of_val:]\n",
    "\n",
    "print('훈련 데이터의 개수 :', len(encoder_input_train))\n",
    "print('훈련 레이블의 개수 :', len(decoder_input_train))\n",
    "print('테스트 데이터의 개수 :', len(encoder_input_test))\n",
    "print('테스트 레이블의 개수 :', len(decoder_input_test))"
   ]
  },
  {
   "cell_type": "code",
   "execution_count": 27,
   "id": "efa95a54",
   "metadata": {},
   "outputs": [
    {
     "name": "stdout",
     "output_type": "stream",
     "text": [
      "=3\n"
     ]
    }
   ],
   "source": [
    "src_tokenizer = Tokenizer() # 토크나이저 정의\n",
    "src_tokenizer.fit_on_texts(encoder_input_train) # 입력된 데이터로부터 단어 집합 생성\n",
    "print('=3')"
   ]
  },
  {
   "cell_type": "code",
   "execution_count": 28,
   "id": "8d51e637",
   "metadata": {},
   "outputs": [
    {
     "name": "stdout",
     "output_type": "stream",
     "text": [
      "단어 집합(vocabulary)의 크기 : 69456\n",
      "등장 빈도가 6번 이하인 희귀 단어의 수: 47403\n",
      "단어 집합에서 희귀 단어를 제외시킬 경우의 단어 집합의 크기 22053\n",
      "단어 집합에서 희귀 단어의 비율: 68.24896337249481\n",
      "전체 등장 빈도에서 희귀 단어 등장 빈도 비율: 3.5175030859788508\n"
     ]
    }
   ],
   "source": [
    "threshold = 7\n",
    "total_cnt = len(src_tokenizer.word_index) # 단어의 수\n",
    "rare_cnt = 0 # 등장 빈도수가 threshold보다 작은 단어의 개수를 카운트\n",
    "total_freq = 0 # 훈련 데이터의 전체 단어 빈도수 총 합\n",
    "rare_freq = 0 # 등장 빈도수가 threshold보다 작은 단어의 등장 빈도수의 총 합\n",
    "\n",
    "# 단어와 빈도수의 쌍(pair)을 key와 value로 받는다.\n",
    "for key, value in src_tokenizer.word_counts.items():\n",
    "    total_freq = total_freq + value\n",
    "\n",
    "    # 단어의 등장 빈도수가 threshold보다 작으면\n",
    "    if(value < threshold):\n",
    "        rare_cnt = rare_cnt + 1\n",
    "        rare_freq = rare_freq + value\n",
    "\n",
    "print('단어 집합(vocabulary)의 크기 :', total_cnt)\n",
    "print('등장 빈도가 %s번 이하인 희귀 단어의 수: %s'%(threshold - 1, rare_cnt))\n",
    "print('단어 집합에서 희귀 단어를 제외시킬 경우의 단어 집합의 크기 %s'%(total_cnt - rare_cnt))\n",
    "print(\"단어 집합에서 희귀 단어의 비율:\", (rare_cnt / total_cnt)*100)\n",
    "print(\"전체 등장 빈도에서 희귀 단어 등장 빈도 비율:\", (rare_freq / total_freq)*100)"
   ]
  },
  {
   "cell_type": "code",
   "execution_count": 29,
   "id": "8341056c",
   "metadata": {},
   "outputs": [
    {
     "name": "stdout",
     "output_type": "stream",
     "text": [
      "=3\n"
     ]
    }
   ],
   "source": [
    "src_vocab = 20000\n",
    "src_tokenizer = Tokenizer(num_words=src_vocab) # 단어 집합의 크기를 8,000으로 제한\n",
    "src_tokenizer.fit_on_texts(encoder_input_train) # 단어 집합 재생성\n",
    "print('=3')"
   ]
  },
  {
   "cell_type": "code",
   "execution_count": 30,
   "id": "0c487c30",
   "metadata": {},
   "outputs": [
    {
     "name": "stdout",
     "output_type": "stream",
     "text": [
      "[[3, 13, 755, 4984, 4419, 282, 897, 262, 750, 3122, 786, 5756, 629, 67, 823, 40, 1, 823, 40, 6, 2511, 282, 122, 2740, 10680, 145, 10680, 1, 402, 311, 1364, 282, 1769, 363, 1263], [645, 4145, 772, 563, 19389, 42, 1162, 357, 6431, 5, 1052, 372, 1288, 4268, 635, 8950, 7293, 2475, 42, 8122, 4269, 1887, 340, 5, 16, 123, 41, 1288, 2475, 635, 72, 8950], [102, 884, 2, 1182, 1397, 2800, 716, 545, 7294, 2, 55, 1182, 102, 3069, 716, 2829, 4384, 3461, 10435, 716, 3876, 4420, 39, 2, 4384, 102, 2047, 70, 3934, 2450, 70, 1498, 716, 3876, 70]]\n"
     ]
    }
   ],
   "source": [
    "# 텍스트 시퀀스를 정수 시퀀스로 변환\n",
    "encoder_input_train = src_tokenizer.texts_to_sequences(encoder_input_train) \n",
    "encoder_input_test = src_tokenizer.texts_to_sequences(encoder_input_test)\n",
    "\n",
    "# 잘 진행되었는지 샘플 출력\n",
    "print(encoder_input_train[:3])"
   ]
  },
  {
   "cell_type": "code",
   "execution_count": 31,
   "id": "c70b0409",
   "metadata": {},
   "outputs": [
    {
     "name": "stdout",
     "output_type": "stream",
     "text": [
      "=3\n"
     ]
    }
   ],
   "source": [
    "tar_tokenizer = Tokenizer()\n",
    "tar_tokenizer.fit_on_texts(decoder_input_train)\n",
    "print('=3')"
   ]
  },
  {
   "cell_type": "code",
   "execution_count": 32,
   "id": "efbd0137",
   "metadata": {},
   "outputs": [
    {
     "name": "stdout",
     "output_type": "stream",
     "text": [
      "단어 집합(vocabulary)의 크기 : 30057\n",
      "등장 빈도가 5번 이하인 희귀 단어의 수: 19680\n",
      "단어 집합에서 희귀 단어를 제외시킬 경우의 단어 집합의 크기 10377\n",
      "단어 집합에서 희귀 단어의 비율: 65.47559636690289\n",
      "전체 등장 빈도에서 희귀 단어 등장 빈도 비율: 4.7153749352283665\n"
     ]
    }
   ],
   "source": [
    "threshold = 6\n",
    "total_cnt = len(tar_tokenizer.word_index) # 단어의 수\n",
    "rare_cnt = 0 # 등장 빈도수가 threshold보다 작은 단어의 개수를 카운트\n",
    "total_freq = 0 # 훈련 데이터의 전체 단어 빈도수 총 합\n",
    "rare_freq = 0 # 등장 빈도수가 threshold보다 작은 단어의 등장 빈도수의 총 합\n",
    "\n",
    "# 단어와 빈도수의 쌍(pair)을 key와 value로 받는다.\n",
    "for key, value in tar_tokenizer.word_counts.items():\n",
    "    total_freq = total_freq + value\n",
    "\n",
    "    # 단어의 등장 빈도수가 threshold보다 작으면\n",
    "    if(value < threshold):\n",
    "        rare_cnt = rare_cnt + 1\n",
    "        rare_freq = rare_freq + value\n",
    "\n",
    "print('단어 집합(vocabulary)의 크기 :', total_cnt)\n",
    "print('등장 빈도가 %s번 이하인 희귀 단어의 수: %s'%(threshold - 1, rare_cnt))\n",
    "print('단어 집합에서 희귀 단어를 제외시킬 경우의 단어 집합의 크기 %s'%(total_cnt - rare_cnt))\n",
    "print(\"단어 집합에서 희귀 단어의 비율:\", (rare_cnt / total_cnt)*100)\n",
    "print(\"전체 등장 빈도에서 희귀 단어 등장 빈도 비율:\", (rare_freq / total_freq)*100)"
   ]
  },
  {
   "cell_type": "code",
   "execution_count": 33,
   "id": "03c29eb1",
   "metadata": {},
   "outputs": [
    {
     "name": "stdout",
     "output_type": "stream",
     "text": [
      "input\n",
      "input  [[1, 931, 1459, 3570, 9, 1250, 3571, 116, 204], [1, 292, 362, 42, 1307, 1428, 7, 14, 553, 3983, 127, 4, 157], [1, 58, 87, 45, 3, 8, 1754, 3, 685, 4, 2102], [1, 50, 920, 252, 1030, 222, 19, 767, 760, 212, 392, 1629], [1, 1067, 136, 3073, 32, 215, 7176, 1659]]\n",
      "target\n",
      "decoder  [[931, 1459, 3570, 9, 1250, 3571, 116, 204, 2], [292, 362, 42, 1307, 1428, 7, 14, 553, 3983, 127, 4, 157, 2], [58, 87, 45, 3, 8, 1754, 3, 685, 4, 2102, 2], [50, 920, 252, 1030, 222, 19, 767, 760, 212, 392, 1629, 2], [1067, 136, 3073, 32, 215, 7176, 1659, 2]]\n"
     ]
    }
   ],
   "source": [
    "tar_vocab = 10000\n",
    "tar_tokenizer = Tokenizer(num_words=tar_vocab) \n",
    "tar_tokenizer.fit_on_texts(decoder_input_train)\n",
    "tar_tokenizer.fit_on_texts(decoder_target_train)\n",
    "\n",
    "# 텍스트 시퀀스를 정수 시퀀스로 변환\n",
    "decoder_input_train = tar_tokenizer.texts_to_sequences(decoder_input_train) \n",
    "decoder_target_train = tar_tokenizer.texts_to_sequences(decoder_target_train)\n",
    "decoder_input_test = tar_tokenizer.texts_to_sequences(decoder_input_test)\n",
    "decoder_target_test = tar_tokenizer.texts_to_sequences(decoder_target_test)\n",
    "\n",
    "# 잘 변환되었는지 확인\n",
    "print('input')\n",
    "print('input ',decoder_input_train[:5])\n",
    "print('target')\n",
    "print('decoder ',decoder_target_train[:5])"
   ]
  },
  {
   "cell_type": "code",
   "execution_count": 34,
   "id": "80718e06",
   "metadata": {},
   "outputs": [
    {
     "name": "stdout",
     "output_type": "stream",
     "text": [
      "삭제할 훈련 데이터의 개수 : 0\n",
      "삭제할 테스트 데이터의 개수 : 0\n",
      "훈련 데이터의 개수 : 77747\n",
      "훈련 레이블의 개수 : 77747\n",
      "테스트 데이터의 개수 : 19436\n",
      "테스트 레이블의 개수 : 19436\n"
     ]
    }
   ],
   "source": [
    "drop_train = [index for index, sentence in enumerate(decoder_input_train) if len(sentence) == 1]\n",
    "drop_test = [index for index, sentence in enumerate(decoder_input_test) if len(sentence) == 1]\n",
    "\n",
    "print('삭제할 훈련 데이터의 개수 :', len(drop_train))\n",
    "print('삭제할 테스트 데이터의 개수 :', len(drop_test))\n",
    "\n",
    "encoder_input_train = [sentence for index, sentence in enumerate(encoder_input_train) if index not in drop_train]\n",
    "decoder_input_train = [sentence for index, sentence in enumerate(decoder_input_train) if index not in drop_train]\n",
    "decoder_target_train = [sentence for index, sentence in enumerate(decoder_target_train) if index not in drop_train]\n",
    "\n",
    "encoder_input_test = [sentence for index, sentence in enumerate(encoder_input_test) if index not in drop_test]\n",
    "decoder_input_test = [sentence for index, sentence in enumerate(decoder_input_test) if index not in drop_test]\n",
    "decoder_target_test = [sentence for index, sentence in enumerate(decoder_target_test) if index not in drop_test]\n",
    "\n",
    "print('훈련 데이터의 개수 :', len(encoder_input_train))\n",
    "print('훈련 레이블의 개수 :', len(decoder_input_train))\n",
    "print('테스트 데이터의 개수 :', len(encoder_input_test))\n",
    "print('테스트 레이블의 개수 :', len(decoder_input_test))"
   ]
  },
  {
   "cell_type": "code",
   "execution_count": 35,
   "id": "6589a01d",
   "metadata": {},
   "outputs": [
    {
     "name": "stdout",
     "output_type": "stream",
     "text": [
      "=3\n"
     ]
    }
   ],
   "source": [
    "encoder_input_train = pad_sequences(encoder_input_train, maxlen=text_max_len, padding='post')\n",
    "encoder_input_test = pad_sequences(encoder_input_test, maxlen=text_max_len, padding='post')\n",
    "decoder_input_train = pad_sequences(decoder_input_train, maxlen=headlines_max_len, padding='post')\n",
    "decoder_target_train = pad_sequences(decoder_target_train, maxlen=headlines_max_len, padding='post')\n",
    "decoder_input_test = pad_sequences(decoder_input_test, maxlen=headlines_max_len, padding='post')\n",
    "decoder_target_test = pad_sequences(decoder_target_test, maxlen=headlines_max_len, padding='post')\n",
    "print('=3')"
   ]
  },
  {
   "cell_type": "code",
   "execution_count": 36,
   "id": "aad71bc6",
   "metadata": {},
   "outputs": [],
   "source": [
    "from tensorflow.keras.layers import Input, LSTM, Embedding, Dense, Concatenate, TimeDistributed\n",
    "from tensorflow.keras.models import Model\n",
    "from tensorflow.keras.callbacks import EarlyStopping, ModelCheckpoint\n",
    "\n",
    "\n",
    "# 인코더 설계 시작\n",
    "embedding_dim = 128\n",
    "hidden_size = 256\n",
    "\n",
    "# 인코더\n",
    "encoder_inputs = Input(shape=(text_max_len,))\n",
    "\n",
    "# 인코더의 임베딩 층\n",
    "enc_emb = Embedding(src_vocab, embedding_dim)(encoder_inputs)\n",
    "\n",
    "# 인코더의 LSTM 1\n",
    "# encoder_lstm1 = LSTM(hidden_size, return_sequences=True, return_state=True ,dropout = 0.4, recurrent_dropout = 0.4)\n",
    "encoder_lstm1 = LSTM(hidden_size, return_sequences=True, return_state=True ,dropout = 0.4)\n",
    "encoder_output1, state_h1, state_c1 = encoder_lstm1(enc_emb)\n",
    "\n",
    "# 인코더의 LSTM 2\n",
    "# [[YOUR CODE]]\n",
    "encoder_lstm2 = LSTM(hidden_size, return_sequences=True, return_state=True ,dropout = 0.4)\n",
    "encoder_output2, state_h2, state_c2 = encoder_lstm2(encoder_output1)\n",
    "\n",
    "# 인코더의 LSTM 3\n",
    "# [[YOUR CODE]]\n",
    "encoder_lstm3 = LSTM(hidden_size, return_sequences=True, return_state=True ,dropout = 0.4)\n",
    "encoder_output3, state_h3, state_c3 = encoder_lstm3(encoder_output2)"
   ]
  },
  {
   "cell_type": "code",
   "execution_count": 37,
   "id": "c7edea58",
   "metadata": {},
   "outputs": [],
   "source": [
    "# 디코더 설계\n",
    "decoder_inputs = Input(shape=(None,))\n",
    "\n",
    "# 디코더의 임베딩 층\n",
    "dec_emb_layer = Embedding(tar_vocab, embedding_dim)\n",
    "dec_emb = dec_emb_layer(decoder_inputs)\n",
    "\n",
    "# 디코더의 LSTM\n",
    "# decoder_lstm = LSTM(hidden_size, return_sequences=True, return_state=True, dropout=0.4, recurrent_dropout=0.2)\n",
    "decoder_lstm = LSTM(hidden_size, return_sequences=True, return_state=True, dropout=0.4)\n",
    "decoder_outputs, _, _ = decoder_lstm(dec_emb, initial_state=[state_h3, state_c3])"
   ]
  },
  {
   "cell_type": "code",
   "execution_count": 38,
   "id": "fa3a35f5",
   "metadata": {},
   "outputs": [
    {
     "name": "stdout",
     "output_type": "stream",
     "text": [
      "Model: \"model\"\n",
      "__________________________________________________________________________________________________\n",
      "Layer (type)                    Output Shape         Param #     Connected to                     \n",
      "==================================================================================================\n",
      "input_1 (InputLayer)            [(None, 60)]         0                                            \n",
      "__________________________________________________________________________________________________\n",
      "embedding (Embedding)           (None, 60, 128)      2560000     input_1[0][0]                    \n",
      "__________________________________________________________________________________________________\n",
      "lstm (LSTM)                     [(None, 60, 256), (N 394240      embedding[0][0]                  \n",
      "__________________________________________________________________________________________________\n",
      "input_2 (InputLayer)            [(None, None)]       0                                            \n",
      "__________________________________________________________________________________________________\n",
      "lstm_1 (LSTM)                   [(None, 60, 256), (N 525312      lstm[0][0]                       \n",
      "__________________________________________________________________________________________________\n",
      "embedding_1 (Embedding)         (None, None, 128)    1280000     input_2[0][0]                    \n",
      "__________________________________________________________________________________________________\n",
      "lstm_2 (LSTM)                   [(None, 60, 256), (N 525312      lstm_1[0][0]                     \n",
      "__________________________________________________________________________________________________\n",
      "lstm_3 (LSTM)                   [(None, None, 256),  394240      embedding_1[0][0]                \n",
      "                                                                 lstm_2[0][1]                     \n",
      "                                                                 lstm_2[0][2]                     \n",
      "__________________________________________________________________________________________________\n",
      "dense (Dense)                   (None, None, 10000)  2570000     lstm_3[0][0]                     \n",
      "==================================================================================================\n",
      "Total params: 8,249,104\n",
      "Trainable params: 8,249,104\n",
      "Non-trainable params: 0\n",
      "__________________________________________________________________________________________________\n"
     ]
    }
   ],
   "source": [
    "# 디코더의 출력층\n",
    "decoder_softmax_layer = Dense(tar_vocab, activation='softmax')\n",
    "decoder_softmax_outputs = decoder_softmax_layer(decoder_outputs) \n",
    "\n",
    "# 모델 정의\n",
    "model = Model([encoder_inputs, decoder_inputs], decoder_softmax_outputs)\n",
    "model.summary()"
   ]
  },
  {
   "cell_type": "code",
   "execution_count": 39,
   "id": "91a49e7f",
   "metadata": {},
   "outputs": [
    {
     "name": "stdout",
     "output_type": "stream",
     "text": [
      "Model: \"model_1\"\n",
      "__________________________________________________________________________________________________\n",
      "Layer (type)                    Output Shape         Param #     Connected to                     \n",
      "==================================================================================================\n",
      "input_1 (InputLayer)            [(None, 60)]         0                                            \n",
      "__________________________________________________________________________________________________\n",
      "embedding (Embedding)           (None, 60, 128)      2560000     input_1[0][0]                    \n",
      "__________________________________________________________________________________________________\n",
      "lstm (LSTM)                     [(None, 60, 256), (N 394240      embedding[0][0]                  \n",
      "__________________________________________________________________________________________________\n",
      "input_2 (InputLayer)            [(None, None)]       0                                            \n",
      "__________________________________________________________________________________________________\n",
      "lstm_1 (LSTM)                   [(None, 60, 256), (N 525312      lstm[0][0]                       \n",
      "__________________________________________________________________________________________________\n",
      "embedding_1 (Embedding)         (None, None, 128)    1280000     input_2[0][0]                    \n",
      "__________________________________________________________________________________________________\n",
      "lstm_2 (LSTM)                   [(None, 60, 256), (N 525312      lstm_1[0][0]                     \n",
      "__________________________________________________________________________________________________\n",
      "lstm_3 (LSTM)                   [(None, None, 256),  394240      embedding_1[0][0]                \n",
      "                                                                 lstm_2[0][1]                     \n",
      "                                                                 lstm_2[0][2]                     \n",
      "__________________________________________________________________________________________________\n",
      "attention_layer (AdditiveAttent (None, None, 256)    256         lstm_3[0][0]                     \n",
      "                                                                 lstm_2[0][0]                     \n",
      "__________________________________________________________________________________________________\n",
      "concat_layer (Concatenate)      (None, None, 512)    0           lstm_3[0][0]                     \n",
      "                                                                 attention_layer[0][0]            \n",
      "__________________________________________________________________________________________________\n",
      "dense_1 (Dense)                 (None, None, 10000)  5130000     concat_layer[0][0]               \n",
      "==================================================================================================\n",
      "Total params: 10,809,360\n",
      "Trainable params: 10,809,360\n",
      "Non-trainable params: 0\n",
      "__________________________________________________________________________________________________\n"
     ]
    }
   ],
   "source": [
    "from tensorflow.keras.layers import AdditiveAttention\n",
    "\n",
    "# 어텐션 층(어텐션 함수)\n",
    "attn_layer = AdditiveAttention(name='attention_layer')\n",
    "\n",
    "# 인코더와 디코더의 모든 time step의 hidden state를 어텐션 층에 전달하고 결과를 리턴\n",
    "attn_out = attn_layer([decoder_outputs, encoder_output3])\n",
    "\n",
    "\n",
    "# 어텐션의 결과와 디코더의 hidden state들을 연결\n",
    "decoder_concat_input = Concatenate(axis=-1, name='concat_layer')([decoder_outputs, attn_out])\n",
    "\n",
    "# 디코더의 출력층\n",
    "decoder_softmax_layer = Dense(tar_vocab, activation='softmax')\n",
    "decoder_softmax_outputs = decoder_softmax_layer(decoder_concat_input)\n",
    "\n",
    "# 모델 정의\n",
    "model = Model([encoder_inputs, decoder_inputs], decoder_softmax_outputs)\n",
    "model.summary()"
   ]
  },
  {
   "cell_type": "code",
   "execution_count": 41,
   "id": "13659113",
   "metadata": {},
   "outputs": [
    {
     "name": "stdout",
     "output_type": "stream",
     "text": [
      "Epoch 1/150\n",
      "304/304 [==============================] - 41s 121ms/step - loss: 4.8695 - val_loss: 4.6936\n",
      "Epoch 2/150\n",
      "304/304 [==============================] - 35s 117ms/step - loss: 4.5715 - val_loss: 4.4555\n",
      "Epoch 3/150\n",
      "304/304 [==============================] - 35s 117ms/step - loss: 4.3302 - val_loss: 4.2884\n",
      "Epoch 4/150\n",
      "304/304 [==============================] - 36s 117ms/step - loss: 4.1395 - val_loss: 4.1611\n",
      "Epoch 5/150\n",
      "304/304 [==============================] - 36s 117ms/step - loss: 3.9834 - val_loss: 4.0590\n",
      "Epoch 6/150\n",
      "304/304 [==============================] - 36s 117ms/step - loss: 3.8472 - val_loss: 3.9893\n",
      "Epoch 7/150\n",
      "304/304 [==============================] - 36s 117ms/step - loss: 3.7269 - val_loss: 3.9214\n",
      "Epoch 8/150\n",
      "304/304 [==============================] - 36s 117ms/step - loss: 3.6188 - val_loss: 3.8649\n",
      "Epoch 9/150\n",
      "304/304 [==============================] - 36s 117ms/step - loss: 3.5218 - val_loss: 3.8250\n",
      "Epoch 10/150\n",
      "304/304 [==============================] - 36s 117ms/step - loss: 3.4376 - val_loss: 3.7934\n",
      "Epoch 11/150\n",
      "304/304 [==============================] - 36s 117ms/step - loss: 3.3599 - val_loss: 3.7640\n",
      "Epoch 12/150\n",
      "304/304 [==============================] - 36s 117ms/step - loss: 3.2862 - val_loss: 3.7404\n",
      "Epoch 13/150\n",
      "304/304 [==============================] - 36s 117ms/step - loss: 3.2180 - val_loss: 3.7168\n",
      "Epoch 14/150\n",
      "304/304 [==============================] - 36s 117ms/step - loss: 3.1553 - val_loss: 3.6966\n",
      "Epoch 15/150\n",
      "304/304 [==============================] - 36s 117ms/step - loss: 3.0980 - val_loss: 3.6848\n",
      "Epoch 16/150\n",
      "304/304 [==============================] - 36s 117ms/step - loss: 3.0444 - val_loss: 3.6723\n",
      "Epoch 17/150\n",
      "304/304 [==============================] - 36s 117ms/step - loss: 2.9932 - val_loss: 3.6669\n",
      "Epoch 18/150\n",
      "304/304 [==============================] - 36s 117ms/step - loss: 2.9463 - val_loss: 3.6616\n",
      "Epoch 19/150\n",
      "304/304 [==============================] - 36s 117ms/step - loss: 2.9019 - val_loss: 3.6539\n",
      "Epoch 20/150\n",
      "304/304 [==============================] - 36s 117ms/step - loss: 2.8597 - val_loss: 3.6497\n",
      "Epoch 21/150\n",
      "304/304 [==============================] - 36s 117ms/step - loss: 2.8175 - val_loss: 3.6481\n",
      "Epoch 22/150\n",
      "304/304 [==============================] - 36s 117ms/step - loss: 2.7796 - val_loss: 3.6492\n",
      "Epoch 23/150\n",
      "304/304 [==============================] - 36s 117ms/step - loss: 2.7455 - val_loss: 3.6460\n",
      "Epoch 24/150\n",
      "304/304 [==============================] - 36s 117ms/step - loss: 2.7088 - val_loss: 3.6479\n",
      "Epoch 25/150\n",
      "304/304 [==============================] - 36s 117ms/step - loss: 2.6772 - val_loss: 3.6474\n",
      "Epoch 26/150\n",
      "304/304 [==============================] - 36s 117ms/step - loss: 2.6483 - val_loss: 3.6437\n",
      "Epoch 27/150\n",
      "304/304 [==============================] - 36s 117ms/step - loss: 2.6180 - val_loss: 3.6480\n",
      "Epoch 28/150\n",
      "304/304 [==============================] - 36s 117ms/step - loss: 2.5901 - val_loss: 3.6548\n",
      "Epoch 29/150\n",
      "304/304 [==============================] - 36s 117ms/step - loss: 2.5631 - val_loss: 3.6521\n",
      "Epoch 00029: early stopping\n"
     ]
    }
   ],
   "source": [
    "model.compile(optimizer='rmsprop', loss='sparse_categorical_crossentropy')\n",
    "es = EarlyStopping(monitor='val_loss', patience=3, verbose=1)\n",
    "history = model.fit(x=[encoder_input_train, decoder_input_train], y=decoder_target_train, \\\n",
    "          validation_data=([encoder_input_test, decoder_input_test], decoder_target_test), \\\n",
    "          batch_size=256, callbacks=[es], epochs=150)"
   ]
  },
  {
   "cell_type": "code",
   "execution_count": 42,
   "id": "8ee6c5d9",
   "metadata": {},
   "outputs": [
    {
     "data": {
      "image/png": "[encoded data removed]",
      "text/plain": [
       "<Figure size 432x288 with 1 Axes>"
      ]
     },
     "metadata": {
      "needs_background": "light"
     },
     "output_type": "display_data"
    }
   ],
   "source": [
    "plt.plot(history.history['loss'], label='train')\n",
    "plt.plot(history.history['val_loss'], label='test')\n",
    "plt.legend()\n",
    "plt.show()"
   ]
  },
  {
   "cell_type": "code",
   "execution_count": 43,
   "id": "0c986423",
   "metadata": {},
   "outputs": [
    {
     "name": "stdout",
     "output_type": "stream",
     "text": [
      "=3\n"
     ]
    }
   ],
   "source": [
    "src_index_to_word = src_tokenizer.index_word # 원문 단어 집합에서 정수 -> 단어를 얻음\n",
    "tar_word_to_index = tar_tokenizer.word_index # 요약 단어 집합에서 단어 -> 정수를 얻음\n",
    "tar_index_to_word = tar_tokenizer.index_word # 요약 단어 집합에서 정수 -> 단어를 얻음\n",
    "\n",
    "print('=3')"
   ]
  },
  {
   "cell_type": "code",
   "execution_count": 44,
   "id": "6f280fe4",
   "metadata": {},
   "outputs": [
    {
     "name": "stdout",
     "output_type": "stream",
     "text": [
      "=3\n"
     ]
    }
   ],
   "source": [
    "# 인코더 설계\n",
    "encoder_model = Model(inputs=encoder_inputs, outputs=[encoder_output3, state_h3, state_c3])\n",
    "\n",
    "# 이전 시점의 상태들을 저장하는 텐서\n",
    "decoder_state_input_h = Input(shape=(hidden_size,))\n",
    "decoder_state_input_c = Input(shape=(hidden_size,))\n",
    "\n",
    "dec_emb2 = dec_emb_layer(decoder_inputs)\n",
    "\n",
    "# 문장의 다음 단어를 예측하기 위해서 초기 상태(initial_state)를 이전 시점의 상태로 사용. 이는 뒤의 함수 decode_sequence()에 구현\n",
    "# 훈련 과정에서와 달리 LSTM의 리턴하는 은닉 상태와 셀 상태인 state_h와 state_c를 버리지 않음.\n",
    "decoder_outputs2, state_h2, state_c2 = decoder_lstm(dec_emb2, initial_state=[decoder_state_input_h, decoder_state_input_c])\n",
    "\n",
    "print('=3')"
   ]
  },
  {
   "cell_type": "code",
   "execution_count": 45,
   "id": "73b913f4",
   "metadata": {},
   "outputs": [
    {
     "name": "stdout",
     "output_type": "stream",
     "text": [
      "=3\n"
     ]
    }
   ],
   "source": [
    "# 어텐션 함수\n",
    "decoder_hidden_state_input = Input(shape=(text_max_len, hidden_size))\n",
    "attn_out_inf = attn_layer([decoder_outputs2, decoder_hidden_state_input])\n",
    "decoder_inf_concat = Concatenate(axis=-1, name='concat')([decoder_outputs2, attn_out_inf])\n",
    "\n",
    "# 디코더의 출력층\n",
    "decoder_outputs2 = decoder_softmax_layer(decoder_inf_concat) \n",
    "\n",
    "# 최종 디코더 모델\n",
    "decoder_model = Model(\n",
    "    [decoder_inputs] + [decoder_hidden_state_input,decoder_state_input_h, decoder_state_input_c],\n",
    "    [decoder_outputs2] + [state_h2, state_c2])\n",
    "\n",
    "print('=3')"
   ]
  },
  {
   "cell_type": "code",
   "execution_count": 46,
   "id": "88bb5049",
   "metadata": {},
   "outputs": [
    {
     "name": "stdout",
     "output_type": "stream",
     "text": [
      "=3\n"
     ]
    }
   ],
   "source": [
    "def decode_sequence(input_seq):\n",
    "    # 입력으로부터 인코더의 상태를 얻음\n",
    "    e_out, e_h, e_c = encoder_model.predict(input_seq)\n",
    "\n",
    "     # <SOS>에 해당하는 토큰 생성\n",
    "    target_seq = np.zeros((1,1))\n",
    "    target_seq[0, 0] = tar_word_to_index['sostoken']\n",
    "\n",
    "    stop_condition = False\n",
    "    decoded_sentence = ''\n",
    "    while not stop_condition: # stop_condition이 True가 될 때까지 루프 반복\n",
    "\n",
    "        output_tokens, h, c = decoder_model.predict([target_seq] + [e_out, e_h, e_c])\n",
    "        sampled_token_index = np.argmax(output_tokens[0, -1, :])\n",
    "        sampled_token = tar_index_to_word[sampled_token_index]\n",
    "\n",
    "        if (sampled_token!='eostoken'):\n",
    "            decoded_sentence += ' '+sampled_token\n",
    "\n",
    "        #  <eos>에 도달하거나 최대 길이를 넘으면 중단.\n",
    "        if (sampled_token == 'eostoken'  or len(decoded_sentence.split()) >= (headlines_max_len-1)):\n",
    "            stop_condition = True\n",
    "\n",
    "        # 길이가 1인 타겟 시퀀스를 업데이트\n",
    "        target_seq = np.zeros((1,1))\n",
    "        target_seq[0, 0] = sampled_token_index\n",
    "\n",
    "        # 상태를 업데이트 합니다.\n",
    "        e_h, e_c = h, c\n",
    "\n",
    "    return decoded_sentence\n",
    "print('=3')"
   ]
  },
  {
   "cell_type": "code",
   "execution_count": 47,
   "id": "e8e95ed5",
   "metadata": {},
   "outputs": [
    {
     "name": "stdout",
     "output_type": "stream",
     "text": [
      "=3\n"
     ]
    }
   ],
   "source": [
    "# 원문의 정수 시퀀스를 텍스트 시퀀스로 변환\n",
    "def seq2text(input_seq):\n",
    "    temp=''\n",
    "    for i in input_seq:\n",
    "        if (i!=0):\n",
    "            temp = temp + src_index_to_word[i]+' '\n",
    "    return temp\n",
    "\n",
    "# 요약문의 정수 시퀀스를 텍스트 시퀀스로 변환\n",
    "def seq2summary(input_seq):\n",
    "    # [[YOUR CODE]]\n",
    "    temp=''\n",
    "    for i in input_seq:\n",
    "        if (i!=0):\n",
    "            temp = temp + tar_index_to_word[i]+' '\n",
    "    return temp\n",
    "\n",
    "print('=3')"
   ]
  },
  {
   "cell_type": "code",
   "execution_count": 48,
   "id": "862b242b",
   "metadata": {},
   "outputs": [
    {
     "name": "stdout",
     "output_type": "stream",
     "text": [
      "원문 : three policemen driver killed monday speeding truck hit convoy car madhya pradesh assembly deputy speaker district police said accident took place deputy speaker hina returning constituency policemen another car behind vehicle police said escaped unhurt police added \n",
      "실제 요약 : sostoken policemen one driver killed in mp car truck accident \n",
      "예측 요약 :  truck carrying car killed in truck accident in himachal\n",
      "\n",
      "\n",
      "원문 : national thermal power corporation ltd thursday shut mw thermal power unit power station uttar pradesh raebareli explosion killed people injured several others wednesday centre announced ex gratia lakh families killed explosion \n",
      "실제 요약 : sostoken ntpc shuts power unit after blast claims lives \n",
      "예측 요약 :  vehicles to get up in up\n",
      "\n",
      "\n",
      "원문 : jaguar new song arjun kapoor anil kapoor starrer mubarakan released sung vishal dadlani hans song music composed amaal lyrics kumaar directed anees film also stars ileana cruz athiya shetty \n",
      "실제 요약 : sostoken jaguar song from arjun kapoor mubarakan released \n",
      "예측 요약 :  song from arjun kapoor starrer kapoor released\n",
      "\n",
      "\n",
      "원문 : year old woman allegedly shot dead father haryana kurukshetra district friday incident reportedly happened went wedding without father permission enraged refused obey father wanted sit home study fired three rounds police said \n",
      "실제 요약 : sostoken father kills daughter for going to wedding against his will \n",
      "예측 요약 :  year old girl dies after being locked by her in delhi\n",
      "\n",
      "\n",
      "원문 : government data report rejected spiritual leader recent claim last four years bomb blasts country except border areas according data hundreds bombings reported across country period blasts taking place alone \n",
      "실제 요약 : sostoken report rejects claim of no blasts in last years \n",
      "예측 요약 :  no evidence of govt security government\n",
      "\n",
      "\n",
      "원문 : amsterdam wednesday banned beer bikes city centre years complaints locals drunken behaviour tourists court ruling called beer bikes namely small carts fitted bicycle seats arranged around bar tables public order problem bicycles popular tourists celebrating group events like parties \n",
      "실제 요약 : sostoken amsterdam bans beer bikes in its city centre \n",
      "예측 요약 :  italian eatery shuts down over illegal bar\n",
      "\n",
      "\n",
      "원문 : us cable giant comcast saturday rupert murdoch st century fox powerful backer disney buy one uk biggest broadcasters sky billion companies bidding stake sky fox already owns stake sky recommended shareholders accept comcast bid \n",
      "실제 요약 : sostoken fox disney offers to buy sky for bn \n",
      "예측 요약 :  fox news king files bn deal for bn\n",
      "\n",
      "\n",
      "원문 : tvs india first bluetooth connected scooter crossed one lakh sales mark brand also introduced new colour metallic red ahead festive season tvs developed tvs racing bluetooth enabled tvs technology features including caller id navigation assist priced \n",
      "실제 요약 : sostoken tvs crosses sales launches new red colour \n",
      "예측 요약 :  india launches most expensive for the first time\n",
      "\n",
      "\n",
      "원문 : indian railways decided build km wall along delhi mumbai route order restrict human cattle interference officials said according official move approved railway board expected help railways achieve time performance reduce number accidents \n",
      "실제 요약 : sostoken railways to build km wall along delhi mumbai route \n",
      "예측 요약 :  railways to get its first metro stations\n",
      "\n",
      "\n",
      "원문 : former cricketer sachin tendulkar revealed knowing tamil helped score double ton mumbai ranji semi final tamil nadu sachin said due reverse swing standing outside crease tn informing bowlers tamil sachin said understood said started standing inside crease \n",
      "실제 요약 : sostoken sachin reveals knowing tamil once helped him hit double ton \n",
      "예측 요약 :  sachin tendulkar takes dig at lord sets up to sachin\n",
      "\n",
      "\n",
      "원문 : peter dinklage portrays lannister game thrones urged fans stop buying look like dire wolves hurt deserving homeless dogs shelters also reporting many abandoned added series dire wolf symbol stark family \n",
      "실제 요약 : sostoken peter urges got fans not to buy \n",
      "예측 요약 :  man slammed for being thrown off by an actor\n",
      "\n",
      "\n",
      "원문 : supporter us president donald trump banned walt disney world holding trump keep america great signs earlier banned september similar offence however disney world officials reinstated annual pass later man said kind wanted test park rules \n",
      "실제 요약 : sostoken disney world bans man for holding up pro trump signs \n",
      "예측 요약 :  trump declares red era council for\n",
      "\n",
      "\n",
      "원문 : national carrier air india delayed payment salaries employees march yet communicate reasons delay according reports disinvestment bound airline staff strength including around permanent rolls government proposed selling stake airline well transfer management control \n",
      "실제 요약 : sostoken air india delays payment of march salaries to employees \n",
      "예측 요약 :  air india cancels salaries of employees reports\n",
      "\n",
      "\n",
      "원문 : former samajwadi party leader amar singh donated ancestral property worth crores sewa bharti organisation affiliated rashtriya swayamsevak sangh includes ancestral house worth crore land worth crore district sangh big organisation donated anything said \n",
      "실제 요약 : sostoken amar singh gives away ancestral property worth crores to rss \n",
      "예측 요약 :  leader leader donates crore to rk nagar bungalow\n",
      "\n",
      "\n",
      "원문 : fir lodged alleging laws killed dowry woman uttar pradesh barabanki district found alive married another man delhi woman father filed fir laws allow meet upon investigation police found delhi arrested finding facebook \n",
      "실제 요약 : sostoken woman killed for dowry found alive married to another man \n",
      "예측 요약 :  man files fir after marriage over affair with her\n",
      "\n",
      "\n",
      "원문 : delhi police thursday said rescued minor girl arrested two men trying sell brothel owners delhi accused called sho mistaking brothel owner tried selling girl sho immediately posed brothel owner laid trap nab accused \n",
      "실제 요약 : sostoken men call delhi police by mistake to sell minor get arrested \n",
      "예측 요약 :  delhi police rescue men to rescue men in delhi\n",
      "\n",
      "\n",
      "원문 : actress aishwarya rai bachchan recalling sudden engagement abhishek bachchan said south indians know roka added suddenly call house coming bachchan family arrived house aishwarya asked mother engagement like happened \n",
      "실제 요약 : sostoken did not know what roka meant aishwarya on her sudden engagement \n",
      "예측 요약 :  aishwarya is very like an actor abhishek\n",
      "\n",
      "\n",
      "원문 : group greek activists proposed using brexit negotiations recover art stolen british brexit deal finalised eu nations must vote deal could stalled country activists said government take advantage recover art \n",
      "실제 요약 : sostoken greek activists seek brexit to stolen art \n",
      "예측 요약 :  uk parliament brexit plan to be shut down\n",
      "\n",
      "\n",
      "원문 : whatsapp co founder jan koum selling porsche cars us auction march year unlimited time unlimited garage space would never sell said koum cars include trio yellow rs models porsche covered kilometres \n",
      "실제 요약 : sostoken whatsapp co founder to sell does not have time to drive \n",
      "예측 요약 :  facebook co founder sold for startup stock\n",
      "\n",
      "\n",
      "원문 : hour minutes russian spacewalk outside international space station ended antenna wrong position friday however nasa reported still working cosmonauts alexander surpassed previous russian record set minutes nearly hours nasa still holds spacewalk world record set \n",
      "실제 요약 : sostoken record russian spacewalk ends with in wrong spot \n",
      "예측 요약 :  russian astronauts fly iss to iss for days\n",
      "\n",
      "\n",
      "원문 : malayalam actor dileep said wanted commit suicide addressing rumours surfaced involved alleged abduction molestation popular malayalam actress dileep claimed actress physically harassed went emotional harassment reportedly fallout starring together debut film \n",
      "실제 요약 : sostoken wanted to kill myself actor on rumour of planning abduction \n",
      "예측 요약 :  actress claims she was killed by dileep claims she was\n",
      "\n",
      "\n",
      "원문 : twitter posted profit second consecutive quarter suffering losses years since founded twitter posted first ever profit million company wednesday revealed profit million twitter monthly active users hit million compared million \n",
      "실제 요약 : sostoken twitter posts nd profit in row after losses for years \n",
      "예측 요약 :  twitter profit rises to crore in\n",
      "\n",
      "\n",
      "원문 : online ticket booking company bookmyshow acquired video streaming startup undisclosed amount cash deal deal aims build bookmyshow audio entertainment platform offering free music downloads credits earned time booking movie tickets takeover marks bookmyshow fourth acquisition \n",
      "실제 요약 : sostoken buys startup to offer music \n",
      "예측 요약 :  acquires cryptocurrency based startup\n",
      "\n",
      "\n",
      "원문 : producer prernaa arora arrested allegedly cheating producer bhagnani crore accused bhagnani threatening family fulfil demands threats family extended taking away place residence read statement released arora team bhagnani accused wrongfully arora business associates \n",
      "실제 요약 : sostoken fraud accused prernaa arora says threatened her \n",
      "예측 요약 :  producer arrested for crore in film\n",
      "\n",
      "\n",
      "원문 : north korea committed achieve complete denuclearisation korean peninsula south korean president moon jae said north korea attached give nuclear weapons demanded end hostile policies followed guarantee security jae added comes ahead inter korean peace summit \n",
      "실제 요약 : sostoken korea committed to complete denuclearisation south korea \n",
      "예측 요약 :  korea korea to nuke talks with korea\n",
      "\n",
      "\n",
      "원문 : video shows impact parked cars earthquake magnitude struck japan osaka city early monday three people feared dead injured due earthquake strongest shaking recorded osaka according modern records go back \n",
      "실제 요약 : sostoken video shows impact of earthquake on parked cars in japan \n",
      "예측 요약 :  video shows truck crashes in mexico\n",
      "\n",
      "\n",
      "원문 : uk centre released smartphone app designed prevent spread asian origin wasp authorities said asian could pose threat uk early detection using public help important eradicate non native species app provides insect identification guide recording species sightings \n",
      "실제 요약 : sostoken uk launches app to track and asian insect \n",
      "예측 요약 :  app lets users send out of internet in germany\n",
      "\n",
      "\n",
      "원문 : combined wealth indians increase three times billion within decade make fourth wealthiest nation according bank global wealth migration review india currently world sixth wealthiest country total wealth billion india currently lakh high net worth individuals multi millionaires \n",
      "실제 요약 : sostoken wealth of indians to rise times by report \n",
      "예측 요약 :  world richest people lose billion in one day\n",
      "\n",
      "\n",
      "원문 : microsoft ceo satya nadella sold common shares company valued million financial planning reasons nadella biggest sale ceo second share sale since took helm still owns shares microsoft would worth million today price \n",
      "실제 요약 : sostoken satya nadella sells of his microsoft stock nets cr \n",
      "예측 요약 :  microsoft ceo earned mn in\n",
      "\n",
      "\n",
      "원문 : hong kong electoral office reported theft two laptops containing information hong kong lakh registered voters devices reportedly stolen locked room backup venue election hong kong chief executive held weekend information stolen reportedly includes voter id card numbers addresses phone numbers \n",
      "실제 요약 : sostoken laptops with data of lakh people stolen in hong kong \n",
      "예측 요약 :  hong kong based crypto exchange hacked for smuggling\n",
      "\n",
      "\n",
      "원문 : man spotted background fianc year old beach photograph going childhood pictures two actually met several years kosovo woman visiting later got engaged woman photograph following user commented meant meant \n",
      "실제 요약 : sostoken man spots self in year old childhood photo of his fianc \n",
      "예측 요약 :  man who had pet cancer on his hands viral\n",
      "\n",
      "\n",
      "원문 : teaser vicky kaushal yami gautam starrer uri released produced ronnie screwvala company film based indian army surgical strikes pakistan occupied kashmir following uri terror attack yami play intelligence officer vicky playing lead commander chief led operation surgical strikes \n",
      "실제 요약 : sostoken teaser of vicky kaushal yami gautam starrer uri released \n",
      "예측 요약 :  teaser of film on film infinity war released\n",
      "\n",
      "\n",
      "원문 : us secretary state mike pompeo make third visit north korea week continue ongoing important work denuclearisation korean peninsula white house said comes amid reports north korea stepping nuclear missile programmes despite deal signed two countries last month \n",
      "실제 요약 : sostoken us state secretary pompeo to make third visit to korea \n",
      "예측 요약 :  korea korea could not be us for korea\n",
      "\n",
      "\n",
      "원문 : least six people died others went missing multi tourist boat carrying passengers sank colombia el reservoir sunday reports said cause accident disclosed yet authorities still process identifying victims board boat \n",
      "실제 요약 : sostoken dead missing after tourist boat sinks in colombia \n",
      "예측 요약 :  dead after missing into brazil military\n",
      "\n",
      "\n",
      "원문 : world war ii veteran flew planes us navy received college degree saturday years taking last class six year old bob started attending college war never finished degree busy working raising family said degree reminded friends family \n",
      "실제 요약 : sostoken yr old wwii veteran gets degree yrs after last class \n",
      "예측 요약 :  us ship veteran wwii ship goes missing\n",
      "\n",
      "\n",
      "원문 : american stunt performer travis honoured legendary three iconic motorcycle sunday wearing like costume jumped buses covering feet distance crushed cars covering feet cleared las vegas palace covering feet \n",
      "실제 요약 : sostoken biker jumps over buses covers more than feet \n",
      "예측 요약 :  us queen elizabeth and royal house\n",
      "\n",
      "\n",
      "원문 : former madhya pradesh chief minister bjp leader thursday claimed considering contesting lok sabha polls congress said visited asked contest polls bhopal lok sabha seat congress ticket told think \n",
      "실제 요약 : sostoken digvijaya offering me ls seat will consider it ex mp cm \n",
      "예측 요약 :  will not contest polls in the elections ex cm\n",
      "\n",
      "\n",
      "원문 : priyanka gandhi vadra appointed congress general secretary uttar pradesh east bihar minister vinod narayan jha said votes cannot basis beautiful faces beautiful holds political achievement added moreover wife robert vadra accused involvement several corruption cases \n",
      "실제 요약 : sostoken votes cannot be won on beautiful faces bihar minister on priyanka \n",
      "예측 요약 :  priyanka patel has been named of bjp congress leader\n",
      "\n",
      "\n",
      "원문 : rejecting claims russian interference uk affairs russian president vladimir putin said uk blames country mortal sins uk russia ties strained recently amid allegations russia interference brexit referendum role poisoning former spy sergei skripal downing malaysia airlines flight mh \n",
      "실제 요약 : sostoken uk blames russia for all its mortal sins president putin \n",
      "예측 요약 :  russia expels uk envoy over brexit\n",
      "\n",
      "\n",
      "원문 : state run lender bank baroda friday reported year year jump net profit crore june quarter bank net interest income rose crore quarter gross bad loans percentage total loans rose june quarter compared march quarter \n",
      "실제 요약 : sostoken bank of baroda profit rises to cr in june quarter \n",
      "예측 요약 :  sbi profit rises to crore in september quarter\n",
      "\n",
      "\n",
      "원문 : sri lankan captain dinesh chandimal suspended third test windies icc found guilty changing condition ball second test year old also fined match fees chandimal admitted using artificial substance shine ball second test second day \n",
      "실제 요약 : sostoken sl captain banned for test over ball tampering \n",
      "예측 요약 :  sl captain banned for not paying ball tampering rate\n",
      "\n",
      "\n",
      "원문 : letter written mahatma gandhi wherein nature existence jesus christ sold undisclosed buyer able move beyond belief jesus one great teachers mankind gandhi written religious elder us \n",
      "실제 요약 : sostoken gandhi letter on jesus sold for over lakh \n",
      "예측 요약 :  signed letter from auctioned for crore\n",
      "\n",
      "\n",
      "원문 : forum employees friday said disputes layoffs tech mahindra moved labour court maharashtra authorities failed mediate earlier mahindra group chairman anand mahindra apologised tech mahindra employee asked quit notably comes amid recent reports multiple layoffs sector \n",
      "실제 요약 : sostoken cases against tech mahindra layoffs moved to labour court \n",
      "예측 요약 :  wipro staff fired over harassment by mahindra\n",
      "\n",
      "\n",
      "원문 : year old man tamil nadu village died choking th trying win competition eating number without water three minutes man died ambulance could reach venue competition competition organised part celebrations \n",
      "실제 요약 : sostoken tn man to death on th during competition \n",
      "예측 요약 :  man dies after being hit by by man in gujarat\n",
      "\n",
      "\n",
      "원문 : goa cm former defence minister manohar parrikar tuesday said defence minister job defence minister could respond incorrect facts reported fear letting state secrets enemy parrikar added also said executing surgical strike highlight tenure \n",
      "실제 요약 : sostoken being defence minister job manohar parrikar \n",
      "예측 요약 :  parrikar goa cm parrikar is not defence minister\n",
      "\n",
      "\n",
      "원문 : uk provided electricity eight nuclear power stations first three months marking first time wind power overtaken nuclear across quarter wind power produced electricity across first quarter second gas according report researchers imperial college london \n",
      "실제 요약 : sostoken uk wind power output surpasses nuclear power for st time \n",
      "예측 요약 :  japan to launch its first ever nuclear power\n",
      "\n",
      "\n",
      "원문 : facebook chief operating officer sheryl sandberg said social media giant zero tolerance policy sexual harassment making facebook policy sexual harassment public sandberg said company fires individuals responsible harassment occurred added implementing policies core creating safe work environment \n",
      "실제 요약 : sostoken we have zero tolerance policy on sexual harassment fb coo \n",
      "예측 요약 :  facebook is not part of sexual harassment scandal coo\n",
      "\n",
      "\n",
      "원문 : local bjp leader pandey along three security guards arrested allegedly planning free maoists division jail jharkhand pandey allegedly paid lakh advance police said plan jump prison wall trigger blast maoists way court \n",
      "실제 요약 : sostoken jharkhand bjp leader plans jailbreak to free maoists held \n",
      "예측 요약 :  bjp leader arrested for carrying carrying carrying votes\n",
      "\n",
      "\n",
      "원문 : referring popular belief sita born pot uttar pradesh deputy cm dinesh sharma said shows concept similar test tube babies existed ramayana supporting tripura cm biplab deb remark satellites existed mahabharata sharma said sanjay presented live telecast kurukshetra war blind king sitting \n",
      "실제 요약 : sostoken birth showed test tube babies existed up dy cm \n",
      "예측 요약 :  minister compares yogi adityanath to him him\n",
      "\n",
      "\n",
      "원문 : ross playing first class english county club worcestershire smashed six sixes sunday becoming first ever sixth player overall professional cricket achieve feat playing natwest blast clash yorkshire scored runs balls failed help side win match \n",
      "실제 요약 : sostoken batsman hits six sixes in an over in england league \n",
      "예측 요약 :  english player scores st ever score in the st ever\n",
      "\n",
      "\n"
     ]
    }
   ],
   "source": [
    "for i in range(50, 100):\n",
    "    print(\"원문 :\", seq2text(encoder_input_test[i]))\n",
    "    print(\"실제 요약 :\", seq2summary(decoder_input_test[i]))\n",
    "    print(\"예측 요약 :\", decode_sequence(encoder_input_test[i].reshape(1, text_max_len)))\n",
    "    print(\"\\n\")"
   ]
  },
  {
   "cell_type": "code",
   "execution_count": 49,
   "id": "5f57ce71",
   "metadata": {},
   "outputs": [],
   "source": [
    "import requests\n",
    "from summa.summarizer import summarize\n",
    "import numpy as np\n",
    "import pandas as pd\n",
    "import os\n",
    "import re\n",
    "import matplotlib.pyplot as plt\n",
    "from nltk.corpus import stopwords\n",
    "from bs4 import BeautifulSoup \n",
    "from tensorflow.keras.preprocessing.text import Tokenizer \n",
    "from tensorflow.keras.preprocessing.sequence import pad_sequences\n",
    "import urllib.request\n",
    "import warnings\n",
    "warnings.filterwarnings(\"ignore\", category=UserWarning, module='bs4')"
   ]
  },
  {
   "cell_type": "code",
   "execution_count": 50,
   "id": "07fadfc2",
   "metadata": {
    "scrolled": true
   },
   "outputs": [],
   "source": [
    "urllib.request.urlretrieve(\"https://raw.githubusercontent.com/sunnysai12345/News_Summary/master/news_summary_more.csv\", filename=\"news_summary_more.csv\")\n",
    "summadata = pd.read_csv('news_summary_more.csv', encoding='iso-8859-1')"
   ]
  },
  {
   "cell_type": "code",
   "execution_count": 51,
   "id": "526bbb15",
   "metadata": {},
   "outputs": [],
   "source": [
    "summa = []\n",
    "for sentence in summadata['text']:\n",
    "    summa.append(summarize(sentence, words = 20))\n",
    "\n",
    "summadata['summa'] = summa"
   ]
  },
  {
   "cell_type": "code",
   "execution_count": 52,
   "id": "4e367a5f",
   "metadata": {},
   "outputs": [
    {
     "data": {
      "text/html": [
       "<div>\n",
       "<style scoped>\n",
       "    .dataframe tbody tr th:only-of-type {\n",
       "        vertical-align: middle;\n",
       "    }\n",
       "\n",
       "    .dataframe tbody tr th {\n",
       "        vertical-align: top;\n",
       "    }\n",
       "\n",
       "    .dataframe thead th {\n",
       "        text-align: right;\n",
       "    }\n",
       "</style>\n",
       "<table border=\"1\" class=\"dataframe\">\n",
       "  <thead>\n",
       "    <tr style=\"text-align: right;\">\n",
       "      <th></th>\n",
       "      <th>headlines</th>\n",
       "      <th>text</th>\n",
       "      <th>summa</th>\n",
       "    </tr>\n",
       "  </thead>\n",
       "  <tbody>\n",
       "    <tr>\n",
       "      <th>47691</th>\n",
       "      <td>Could Nirav Modi leave India without BJP govt ...</td>\n",
       "      <td>Referring to jeweller Nirav Modi, Delhi Chief ...</td>\n",
       "      <td></td>\n",
       "    </tr>\n",
       "    <tr>\n",
       "      <th>45355</th>\n",
       "      <td>19-year-old Afghan becomes youngest captain in...</td>\n",
       "      <td>Afghanistan spinner Rashid Khan became the you...</td>\n",
       "      <td>Afghanistan spinner Rashid Khan became the you...</td>\n",
       "    </tr>\n",
       "    <tr>\n",
       "      <th>16892</th>\n",
       "      <td>Jayawardene makes fun of Sangakkara's glasses ...</td>\n",
       "      <td>Former Sri Lankan captain Mahela Jayawardene m...</td>\n",
       "      <td>Former Sri Lankan captain Mahela Jayawardene m...</td>\n",
       "    </tr>\n",
       "    <tr>\n",
       "      <th>96223</th>\n",
       "      <td>Ravichandran Ashwin bowled 4,430 balls this se...</td>\n",
       "      <td>Ravichandran Ashwin has bowled 4,430 balls in ...</td>\n",
       "      <td>Ravichandran Ashwin has bowled 4,430 balls in ...</td>\n",
       "    </tr>\n",
       "    <tr>\n",
       "      <th>79364</th>\n",
       "      <td>Sanjay Kothari appointed Secretary to Presiden...</td>\n",
       "      <td>The Appointments Committee of the Cabinet has ...</td>\n",
       "      <td>The Appointments Committee of the Cabinet has ...</td>\n",
       "    </tr>\n",
       "    <tr>\n",
       "      <th>11656</th>\n",
       "      <td>Trump plans 'tent cities' for migrants seeking...</td>\n",
       "      <td>US President Donald Trump has said that his ad...</td>\n",
       "      <td>The immigrants coming through Mexico will rema...</td>\n",
       "    </tr>\n",
       "    <tr>\n",
       "      <th>32046</th>\n",
       "      <td>After BCCI's snub, Aus to play day-night Test ...</td>\n",
       "      <td>After confirming that the BCCI refused to play...</td>\n",
       "      <td>After confirming that the BCCI refused to play...</td>\n",
       "    </tr>\n",
       "    <tr>\n",
       "      <th>835</th>\n",
       "      <td>Law student fires at Domino's staff on being d...</td>\n",
       "      <td>Law student Sanam Setia was arrested in Punjab...</td>\n",
       "      <td>Setia then got his licensed gun and opened fir...</td>\n",
       "    </tr>\n",
       "    <tr>\n",
       "      <th>61619</th>\n",
       "      <td>Ex-US female goalie accuses ex-FIFA head of se...</td>\n",
       "      <td>Former United States goalkeeper Hope Solo has ...</td>\n",
       "      <td>Former United States goalkeeper Hope Solo has ...</td>\n",
       "    </tr>\n",
       "    <tr>\n",
       "      <th>16862</th>\n",
       "      <td>Teammates felt at ease after Kohli defended 1s...</td>\n",
       "      <td>Speaking about Indian captain Virat Kohli's ba...</td>\n",
       "      <td>Speaking about Indian captain Virat Kohli's ba...</td>\n",
       "    </tr>\n",
       "    <tr>\n",
       "      <th>68817</th>\n",
       "      <td>Syrian refugee jailed for 10 yrs after setting...</td>\n",
       "      <td>A court in Estonia has sentenced a Syrian refu...</td>\n",
       "      <td>A court in Estonia has sentenced a Syrian refu...</td>\n",
       "    </tr>\n",
       "    <tr>\n",
       "      <th>56822</th>\n",
       "      <td>Sea turtles dying after getting stuck in plast...</td>\n",
       "      <td>A worldwide survey has found over 1,000 marine...</td>\n",
       "      <td>A worldwide survey has found over 1,000 marine...</td>\n",
       "    </tr>\n",
       "    <tr>\n",
       "      <th>82371</th>\n",
       "      <td>News about double tax on bills paid through cr...</td>\n",
       "      <td>A news being circulated through WhatsApp claim...</td>\n",
       "      <td>A news being circulated through WhatsApp claim...</td>\n",
       "    </tr>\n",
       "    <tr>\n",
       "      <th>50729</th>\n",
       "      <td>Technical courses syllabus revamped to meet in...</td>\n",
       "      <td>The All India Council for Technical Education ...</td>\n",
       "      <td>It'll be mandatory for students to intern for ...</td>\n",
       "    </tr>\n",
       "    <tr>\n",
       "      <th>7769</th>\n",
       "      <td>Qatar to withdraw from OPEC after nearly 60 years</td>\n",
       "      <td>Qatar will withdraw from the Organisation of t...</td>\n",
       "      <td>Qatar will withdraw from the Organisation of t...</td>\n",
       "    </tr>\n",
       "  </tbody>\n",
       "</table>\n",
       "</div>"
      ],
      "text/plain": [
       "                                               headlines  \\\n",
       "47691  Could Nirav Modi leave India without BJP govt ...   \n",
       "45355  19-year-old Afghan becomes youngest captain in...   \n",
       "16892  Jayawardene makes fun of Sangakkara's glasses ...   \n",
       "96223  Ravichandran Ashwin bowled 4,430 balls this se...   \n",
       "79364  Sanjay Kothari appointed Secretary to Presiden...   \n",
       "11656  Trump plans 'tent cities' for migrants seeking...   \n",
       "32046  After BCCI's snub, Aus to play day-night Test ...   \n",
       "835    Law student fires at Domino's staff on being d...   \n",
       "61619  Ex-US female goalie accuses ex-FIFA head of se...   \n",
       "16862  Teammates felt at ease after Kohli defended 1s...   \n",
       "68817  Syrian refugee jailed for 10 yrs after setting...   \n",
       "56822  Sea turtles dying after getting stuck in plast...   \n",
       "82371  News about double tax on bills paid through cr...   \n",
       "50729  Technical courses syllabus revamped to meet in...   \n",
       "7769   Qatar to withdraw from OPEC after nearly 60 years   \n",
       "\n",
       "                                                    text  \\\n",
       "47691  Referring to jeweller Nirav Modi, Delhi Chief ...   \n",
       "45355  Afghanistan spinner Rashid Khan became the you...   \n",
       "16892  Former Sri Lankan captain Mahela Jayawardene m...   \n",
       "96223  Ravichandran Ashwin has bowled 4,430 balls in ...   \n",
       "79364  The Appointments Committee of the Cabinet has ...   \n",
       "11656  US President Donald Trump has said that his ad...   \n",
       "32046  After confirming that the BCCI refused to play...   \n",
       "835    Law student Sanam Setia was arrested in Punjab...   \n",
       "61619  Former United States goalkeeper Hope Solo has ...   \n",
       "16862  Speaking about Indian captain Virat Kohli's ba...   \n",
       "68817  A court in Estonia has sentenced a Syrian refu...   \n",
       "56822  A worldwide survey has found over 1,000 marine...   \n",
       "82371  A news being circulated through WhatsApp claim...   \n",
       "50729  The All India Council for Technical Education ...   \n",
       "7769   Qatar will withdraw from the Organisation of t...   \n",
       "\n",
       "                                                   summa  \n",
       "47691                                                     \n",
       "45355  Afghanistan spinner Rashid Khan became the you...  \n",
       "16892  Former Sri Lankan captain Mahela Jayawardene m...  \n",
       "96223  Ravichandran Ashwin has bowled 4,430 balls in ...  \n",
       "79364  The Appointments Committee of the Cabinet has ...  \n",
       "11656  The immigrants coming through Mexico will rema...  \n",
       "32046  After confirming that the BCCI refused to play...  \n",
       "835    Setia then got his licensed gun and opened fir...  \n",
       "61619  Former United States goalkeeper Hope Solo has ...  \n",
       "16862  Speaking about Indian captain Virat Kohli's ba...  \n",
       "68817  A court in Estonia has sentenced a Syrian refu...  \n",
       "56822  A worldwide survey has found over 1,000 marine...  \n",
       "82371  A news being circulated through WhatsApp claim...  \n",
       "50729  It'll be mandatory for students to intern for ...  \n",
       "7769   Qatar will withdraw from the Organisation of t...  "
      ]
     },
     "execution_count": 52,
     "metadata": {},
     "output_type": "execute_result"
    }
   ],
   "source": [
    "summadata.sample(15)"
   ]
  },
  {
   "cell_type": "code",
   "execution_count": 53,
   "id": "ea80b08d",
   "metadata": {
    "scrolled": true
   },
   "outputs": [
    {
     "data": {
      "text/html": [
       "<div>\n",
       "<style scoped>\n",
       "    .dataframe tbody tr th:only-of-type {\n",
       "        vertical-align: middle;\n",
       "    }\n",
       "\n",
       "    .dataframe tbody tr th {\n",
       "        vertical-align: top;\n",
       "    }\n",
       "\n",
       "    .dataframe thead th {\n",
       "        text-align: right;\n",
       "    }\n",
       "</style>\n",
       "<table border=\"1\" class=\"dataframe\">\n",
       "  <thead>\n",
       "    <tr style=\"text-align: right;\">\n",
       "      <th></th>\n",
       "      <th>headlines</th>\n",
       "      <th>text</th>\n",
       "      <th>summa</th>\n",
       "    </tr>\n",
       "  </thead>\n",
       "  <tbody>\n",
       "    <tr>\n",
       "      <th>0</th>\n",
       "      <td>upGrad learner switches to career in ML &amp; Al w...</td>\n",
       "      <td>Saurav Kant, an alumnus of upGrad and IIIT-B's...</td>\n",
       "      <td>The program and upGrad's 360-degree career sup...</td>\n",
       "    </tr>\n",
       "    <tr>\n",
       "      <th>1</th>\n",
       "      <td>Delhi techie wins free food from Swiggy for on...</td>\n",
       "      <td>Kunal Shah's credit card bill payment platform...</td>\n",
       "      <td>Users get one CRED coin per rupee of bill paid...</td>\n",
       "    </tr>\n",
       "    <tr>\n",
       "      <th>2</th>\n",
       "      <td>New Zealand end Rohit Sharma-led India's 12-ma...</td>\n",
       "      <td>New Zealand defeated India by 8 wickets in the...</td>\n",
       "      <td>The match witnessed India getting all out for ...</td>\n",
       "    </tr>\n",
       "    <tr>\n",
       "      <th>3</th>\n",
       "      <td>Aegon life iTerm insurance plan helps customer...</td>\n",
       "      <td>With Aegon Life iTerm Insurance plan, customer...</td>\n",
       "      <td>Also, customers have options to insure against...</td>\n",
       "    </tr>\n",
       "    <tr>\n",
       "      <th>4</th>\n",
       "      <td>Have known Hirani for yrs, what if MeToo claim...</td>\n",
       "      <td>Speaking about the sexual harassment allegatio...</td>\n",
       "      <td>Speaking about the sexual harassment allegatio...</td>\n",
       "    </tr>\n",
       "  </tbody>\n",
       "</table>\n",
       "</div>"
      ],
      "text/plain": [
       "                                           headlines  \\\n",
       "0  upGrad learner switches to career in ML & Al w...   \n",
       "1  Delhi techie wins free food from Swiggy for on...   \n",
       "2  New Zealand end Rohit Sharma-led India's 12-ma...   \n",
       "3  Aegon life iTerm insurance plan helps customer...   \n",
       "4  Have known Hirani for yrs, what if MeToo claim...   \n",
       "\n",
       "                                                text  \\\n",
       "0  Saurav Kant, an alumnus of upGrad and IIIT-B's...   \n",
       "1  Kunal Shah's credit card bill payment platform...   \n",
       "2  New Zealand defeated India by 8 wickets in the...   \n",
       "3  With Aegon Life iTerm Insurance plan, customer...   \n",
       "4  Speaking about the sexual harassment allegatio...   \n",
       "\n",
       "                                               summa  \n",
       "0  The program and upGrad's 360-degree career sup...  \n",
       "1  Users get one CRED coin per rupee of bill paid...  \n",
       "2  The match witnessed India getting all out for ...  \n",
       "3  Also, customers have options to insure against...  \n",
       "4  Speaking about the sexual harassment allegatio...  "
      ]
     },
     "execution_count": 53,
     "metadata": {},
     "output_type": "execute_result"
    }
   ],
   "source": [
    "summadata.head()"
   ]
  },
  {
   "cell_type": "code",
   "execution_count": 64,
   "id": "402a73a8",
   "metadata": {
    "scrolled": true
   },
   "outputs": [
    {
     "name": "stdout",
     "output_type": "stream",
     "text": [
      "원문 : three policemen driver killed monday speeding truck hit convoy car madhya pradesh assembly deputy speaker district police said accident took place deputy speaker hina returning constituency policemen another car behind vehicle police said escaped unhurt police added \n",
      "extractive 요약 : \n",
      "abstractive 요약 :  truck carrying car killed in truck accident in himachal\n",
      "\n",
      "\n",
      "원문 : national thermal power corporation ltd thursday shut mw thermal power unit power station uttar pradesh raebareli explosion killed people injured several others wednesday centre announced ex gratia lakh families killed explosion \n",
      "extractive 요약 : \n",
      "abstractive 요약 :  vehicles to get up in up\n",
      "\n",
      "\n",
      "원문 : jaguar new song arjun kapoor anil kapoor starrer mubarakan released sung vishal dadlani hans song music composed amaal lyrics kumaar directed anees film also stars ileana cruz athiya shetty \n",
      "extractive 요약 : \n",
      "abstractive 요약 :  song from arjun kapoor starrer kapoor released\n",
      "\n",
      "\n",
      "원문 : year old woman allegedly shot dead father haryana kurukshetra district friday incident reportedly happened went wedding without father permission enraged refused obey father wanted sit home study fired three rounds police said \n",
      "extractive 요약 : \n",
      "abstractive 요약 :  year old girl dies after being locked by her in delhi\n",
      "\n",
      "\n",
      "원문 : government data report rejected spiritual leader recent claim last four years bomb blasts country except border areas according data hundreds bombings reported across country period blasts taking place alone \n",
      "extractive 요약 : \n",
      "abstractive 요약 :  no evidence of govt security government\n",
      "\n",
      "\n",
      "원문 : amsterdam wednesday banned beer bikes city centre years complaints locals drunken behaviour tourists court ruling called beer bikes namely small carts fitted bicycle seats arranged around bar tables public order problem bicycles popular tourists celebrating group events like parties \n",
      "extractive 요약 : \n",
      "abstractive 요약 :  italian eatery shuts down over illegal bar\n",
      "\n",
      "\n",
      "원문 : us cable giant comcast saturday rupert murdoch st century fox powerful backer disney buy one uk biggest broadcasters sky billion companies bidding stake sky fox already owns stake sky recommended shareholders accept comcast bid \n",
      "extractive 요약 : \n",
      "abstractive 요약 :  fox news king files bn deal for bn\n",
      "\n",
      "\n",
      "원문 : tvs india first bluetooth connected scooter crossed one lakh sales mark brand also introduced new colour metallic red ahead festive season tvs developed tvs racing bluetooth enabled tvs technology features including caller id navigation assist priced \n",
      "extractive 요약 : \n",
      "abstractive 요약 :  india launches most expensive for the first time\n",
      "\n",
      "\n",
      "원문 : indian railways decided build km wall along delhi mumbai route order restrict human cattle interference officials said according official move approved railway board expected help railways achieve time performance reduce number accidents \n",
      "extractive 요약 : \n",
      "abstractive 요약 :  railways to get its first metro stations\n",
      "\n",
      "\n",
      "원문 : former cricketer sachin tendulkar revealed knowing tamil helped score double ton mumbai ranji semi final tamil nadu sachin said due reverse swing standing outside crease tn informing bowlers tamil sachin said understood said started standing inside crease \n",
      "extractive 요약 : \n",
      "abstractive 요약 :  sachin tendulkar takes dig at lord sets up to sachin\n",
      "\n",
      "\n",
      "원문 : peter dinklage portrays lannister game thrones urged fans stop buying look like dire wolves hurt deserving homeless dogs shelters also reporting many abandoned added series dire wolf symbol stark family \n",
      "extractive 요약 : \n",
      "abstractive 요약 :  man slammed for being thrown off by an actor\n",
      "\n",
      "\n",
      "원문 : supporter us president donald trump banned walt disney world holding trump keep america great signs earlier banned september similar offence however disney world officials reinstated annual pass later man said kind wanted test park rules \n",
      "extractive 요약 : \n",
      "abstractive 요약 :  trump declares red era council for\n",
      "\n",
      "\n",
      "원문 : national carrier air india delayed payment salaries employees march yet communicate reasons delay according reports disinvestment bound airline staff strength including around permanent rolls government proposed selling stake airline well transfer management control \n",
      "extractive 요약 : \n",
      "abstractive 요약 :  air india cancels salaries of employees reports\n",
      "\n",
      "\n",
      "원문 : former samajwadi party leader amar singh donated ancestral property worth crores sewa bharti organisation affiliated rashtriya swayamsevak sangh includes ancestral house worth crore land worth crore district sangh big organisation donated anything said \n",
      "extractive 요약 : \n",
      "abstractive 요약 :  leader leader donates crore to rk nagar bungalow\n",
      "\n",
      "\n",
      "원문 : fir lodged alleging laws killed dowry woman uttar pradesh barabanki district found alive married another man delhi woman father filed fir laws allow meet upon investigation police found delhi arrested finding facebook \n",
      "extractive 요약 : \n",
      "abstractive 요약 :  man files fir after marriage over affair with her\n",
      "\n",
      "\n",
      "원문 : delhi police thursday said rescued minor girl arrested two men trying sell brothel owners delhi accused called sho mistaking brothel owner tried selling girl sho immediately posed brothel owner laid trap nab accused \n",
      "extractive 요약 : \n",
      "abstractive 요약 :  delhi police rescue men to rescue men in delhi\n",
      "\n",
      "\n",
      "원문 : actress aishwarya rai bachchan recalling sudden engagement abhishek bachchan said south indians know roka added suddenly call house coming bachchan family arrived house aishwarya asked mother engagement like happened \n",
      "extractive 요약 : \n",
      "abstractive 요약 :  aishwarya is very like an actor abhishek\n",
      "\n",
      "\n",
      "원문 : group greek activists proposed using brexit negotiations recover art stolen british brexit deal finalised eu nations must vote deal could stalled country activists said government take advantage recover art \n",
      "extractive 요약 : \n",
      "abstractive 요약 :  uk parliament brexit plan to be shut down\n",
      "\n",
      "\n",
      "원문 : whatsapp co founder jan koum selling porsche cars us auction march year unlimited time unlimited garage space would never sell said koum cars include trio yellow rs models porsche covered kilometres \n",
      "extractive 요약 : \n",
      "abstractive 요약 :  facebook co founder sold for startup stock\n",
      "\n",
      "\n",
      "원문 : hour minutes russian spacewalk outside international space station ended antenna wrong position friday however nasa reported still working cosmonauts alexander surpassed previous russian record set minutes nearly hours nasa still holds spacewalk world record set \n",
      "extractive 요약 : \n",
      "abstractive 요약 :  russian astronauts fly iss to iss for days\n",
      "\n",
      "\n",
      "원문 : malayalam actor dileep said wanted commit suicide addressing rumours surfaced involved alleged abduction molestation popular malayalam actress dileep claimed actress physically harassed went emotional harassment reportedly fallout starring together debut film \n",
      "extractive 요약 : \n",
      "abstractive 요약 :  actress claims she was killed by dileep claims she was\n",
      "\n",
      "\n",
      "원문 : twitter posted profit second consecutive quarter suffering losses years since founded twitter posted first ever profit million company wednesday revealed profit million twitter monthly active users hit million compared million \n",
      "extractive 요약 : \n",
      "abstractive 요약 :  twitter profit rises to crore in\n",
      "\n",
      "\n",
      "원문 : online ticket booking company bookmyshow acquired video streaming startup undisclosed amount cash deal deal aims build bookmyshow audio entertainment platform offering free music downloads credits earned time booking movie tickets takeover marks bookmyshow fourth acquisition \n",
      "extractive 요약 : \n",
      "abstractive 요약 :  acquires cryptocurrency based startup\n",
      "\n",
      "\n",
      "원문 : producer prernaa arora arrested allegedly cheating producer bhagnani crore accused bhagnani threatening family fulfil demands threats family extended taking away place residence read statement released arora team bhagnani accused wrongfully arora business associates \n",
      "extractive 요약 : \n",
      "abstractive 요약 :  producer arrested for crore in film\n",
      "\n",
      "\n",
      "원문 : north korea committed achieve complete denuclearisation korean peninsula south korean president moon jae said north korea attached give nuclear weapons demanded end hostile policies followed guarantee security jae added comes ahead inter korean peace summit \n",
      "extractive 요약 : \n",
      "abstractive 요약 :  korea korea to nuke talks with korea\n",
      "\n",
      "\n",
      "원문 : video shows impact parked cars earthquake magnitude struck japan osaka city early monday three people feared dead injured due earthquake strongest shaking recorded osaka according modern records go back \n",
      "extractive 요약 : \n",
      "abstractive 요약 :  video shows truck crashes in mexico\n",
      "\n",
      "\n",
      "원문 : uk centre released smartphone app designed prevent spread asian origin wasp authorities said asian could pose threat uk early detection using public help important eradicate non native species app provides insect identification guide recording species sightings \n",
      "extractive 요약 : \n",
      "abstractive 요약 :  app lets users send out of internet in germany\n",
      "\n",
      "\n",
      "원문 : combined wealth indians increase three times billion within decade make fourth wealthiest nation according bank global wealth migration review india currently world sixth wealthiest country total wealth billion india currently lakh high net worth individuals multi millionaires \n",
      "extractive 요약 : \n",
      "abstractive 요약 :  world richest people lose billion in one day\n",
      "\n",
      "\n",
      "원문 : microsoft ceo satya nadella sold common shares company valued million financial planning reasons nadella biggest sale ceo second share sale since took helm still owns shares microsoft would worth million today price \n",
      "extractive 요약 : \n",
      "abstractive 요약 :  microsoft ceo earned mn in\n",
      "\n",
      "\n",
      "원문 : hong kong electoral office reported theft two laptops containing information hong kong lakh registered voters devices reportedly stolen locked room backup venue election hong kong chief executive held weekend information stolen reportedly includes voter id card numbers addresses phone numbers \n",
      "extractive 요약 : \n",
      "abstractive 요약 :  hong kong based crypto exchange hacked for smuggling\n",
      "\n",
      "\n",
      "원문 : man spotted background fianc year old beach photograph going childhood pictures two actually met several years kosovo woman visiting later got engaged woman photograph following user commented meant meant \n",
      "extractive 요약 : \n",
      "abstractive 요약 :  man who had pet cancer on his hands viral\n",
      "\n",
      "\n",
      "원문 : teaser vicky kaushal yami gautam starrer uri released produced ronnie screwvala company film based indian army surgical strikes pakistan occupied kashmir following uri terror attack yami play intelligence officer vicky playing lead commander chief led operation surgical strikes \n",
      "extractive 요약 : \n",
      "abstractive 요약 :  teaser of film on film infinity war released\n",
      "\n",
      "\n",
      "원문 : us secretary state mike pompeo make third visit north korea week continue ongoing important work denuclearisation korean peninsula white house said comes amid reports north korea stepping nuclear missile programmes despite deal signed two countries last month \n",
      "extractive 요약 : \n",
      "abstractive 요약 :  korea korea could not be us for korea\n",
      "\n",
      "\n",
      "원문 : least six people died others went missing multi tourist boat carrying passengers sank colombia el reservoir sunday reports said cause accident disclosed yet authorities still process identifying victims board boat \n",
      "extractive 요약 : \n",
      "abstractive 요약 :  dead after missing into brazil military\n",
      "\n",
      "\n",
      "원문 : world war ii veteran flew planes us navy received college degree saturday years taking last class six year old bob started attending college war never finished degree busy working raising family said degree reminded friends family \n",
      "extractive 요약 : \n",
      "abstractive 요약 :  us ship veteran wwii ship goes missing\n",
      "\n",
      "\n",
      "원문 : american stunt performer travis honoured legendary three iconic motorcycle sunday wearing like costume jumped buses covering feet distance crushed cars covering feet cleared las vegas palace covering feet \n",
      "extractive 요약 : \n",
      "abstractive 요약 :  us queen elizabeth and royal house\n",
      "\n",
      "\n",
      "원문 : former madhya pradesh chief minister bjp leader thursday claimed considering contesting lok sabha polls congress said visited asked contest polls bhopal lok sabha seat congress ticket told think \n",
      "extractive 요약 : \n",
      "abstractive 요약 :  will not contest polls in the elections ex cm\n",
      "\n",
      "\n",
      "원문 : priyanka gandhi vadra appointed congress general secretary uttar pradesh east bihar minister vinod narayan jha said votes cannot basis beautiful faces beautiful holds political achievement added moreover wife robert vadra accused involvement several corruption cases \n",
      "extractive 요약 : \n",
      "abstractive 요약 :  priyanka patel has been named of bjp congress leader\n",
      "\n",
      "\n",
      "원문 : rejecting claims russian interference uk affairs russian president vladimir putin said uk blames country mortal sins uk russia ties strained recently amid allegations russia interference brexit referendum role poisoning former spy sergei skripal downing malaysia airlines flight mh \n",
      "extractive 요약 : \n",
      "abstractive 요약 :  russia expels uk envoy over brexit\n",
      "\n",
      "\n",
      "원문 : state run lender bank baroda friday reported year year jump net profit crore june quarter bank net interest income rose crore quarter gross bad loans percentage total loans rose june quarter compared march quarter \n",
      "extractive 요약 : \n",
      "abstractive 요약 :  sbi profit rises to crore in september quarter\n",
      "\n",
      "\n",
      "원문 : sri lankan captain dinesh chandimal suspended third test windies icc found guilty changing condition ball second test year old also fined match fees chandimal admitted using artificial substance shine ball second test second day \n",
      "extractive 요약 : \n",
      "abstractive 요약 :  sl captain banned for not paying ball tampering rate\n",
      "\n",
      "\n",
      "원문 : letter written mahatma gandhi wherein nature existence jesus christ sold undisclosed buyer able move beyond belief jesus one great teachers mankind gandhi written religious elder us \n",
      "extractive 요약 : \n",
      "abstractive 요약 :  signed letter from auctioned for crore\n",
      "\n",
      "\n",
      "원문 : forum employees friday said disputes layoffs tech mahindra moved labour court maharashtra authorities failed mediate earlier mahindra group chairman anand mahindra apologised tech mahindra employee asked quit notably comes amid recent reports multiple layoffs sector \n",
      "extractive 요약 : \n",
      "abstractive 요약 :  wipro staff fired over harassment by mahindra\n",
      "\n",
      "\n",
      "원문 : year old man tamil nadu village died choking th trying win competition eating number without water three minutes man died ambulance could reach venue competition competition organised part celebrations \n",
      "extractive 요약 : \n",
      "abstractive 요약 :  man dies after being hit by by man in gujarat\n",
      "\n",
      "\n",
      "원문 : goa cm former defence minister manohar parrikar tuesday said defence minister job defence minister could respond incorrect facts reported fear letting state secrets enemy parrikar added also said executing surgical strike highlight tenure \n",
      "extractive 요약 : \n",
      "abstractive 요약 :  parrikar goa cm parrikar is not defence minister\n",
      "\n",
      "\n",
      "원문 : uk provided electricity eight nuclear power stations first three months marking first time wind power overtaken nuclear across quarter wind power produced electricity across first quarter second gas according report researchers imperial college london \n",
      "extractive 요약 : \n",
      "abstractive 요약 :  japan to launch its first ever nuclear power\n",
      "\n",
      "\n",
      "원문 : facebook chief operating officer sheryl sandberg said social media giant zero tolerance policy sexual harassment making facebook policy sexual harassment public sandberg said company fires individuals responsible harassment occurred added implementing policies core creating safe work environment \n",
      "extractive 요약 : \n",
      "abstractive 요약 :  facebook is not part of sexual harassment scandal coo\n",
      "\n",
      "\n",
      "원문 : local bjp leader pandey along three security guards arrested allegedly planning free maoists division jail jharkhand pandey allegedly paid lakh advance police said plan jump prison wall trigger blast maoists way court \n",
      "extractive 요약 : \n",
      "abstractive 요약 :  bjp leader arrested for carrying carrying carrying votes\n",
      "\n",
      "\n",
      "원문 : referring popular belief sita born pot uttar pradesh deputy cm dinesh sharma said shows concept similar test tube babies existed ramayana supporting tripura cm biplab deb remark satellites existed mahabharata sharma said sanjay presented live telecast kurukshetra war blind king sitting \n",
      "extractive 요약 : \n",
      "abstractive 요약 :  minister compares yogi adityanath to him him\n",
      "\n",
      "\n",
      "원문 : ross playing first class english county club worcestershire smashed six sixes sunday becoming first ever sixth player overall professional cricket achieve feat playing natwest blast clash yorkshire scored runs balls failed help side win match \n",
      "extractive 요약 : \n",
      "abstractive 요약 :  english player scores st ever score in the st ever\n",
      "\n",
      "\n"
     ]
    }
   ],
   "source": [
    "#결과 비교 용\n",
    "for i in range(50, 100):\n",
    "    print(\"원문 :\", seq2text(encoder_input_test[i]))\n",
    "    print(\"extractive 요약 :\", summarize(seq2text(encoder_input_test[i]), ratio = 0.3))\n",
    "    print(\"abstractive 요약 :\", decode_sequence(encoder_input_test[i].reshape(1, text_max_len)))\n",
    "    print(\"\\n\")"
   ]
  },
  {
   "cell_type": "code",
   "execution_count": null,
   "id": "07800bb2",
   "metadata": {},
   "outputs": [],
   "source": []
  }
 ],
 "metadata": {
  "kernelspec": {
   "display_name": "Python 3 (ipykernel)",
   "language": "python",
   "name": "python3"
  },
  "language_info": {
   "codemirror_mode": {
    "name": "ipython",
    "version": 3
   },
   "file_extension": ".py",
   "mimetype": "text/x-python",
   "name": "python",
   "nbconvert_exporter": "python",
   "pygments_lexer": "ipython3",
   "version": "3.9.7"
  }
 },
 "nbformat": 4,
 "nbformat_minor": 5
}
